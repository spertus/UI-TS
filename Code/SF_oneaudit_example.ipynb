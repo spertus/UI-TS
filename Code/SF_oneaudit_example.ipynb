{
 "cells": [
  {
   "cell_type": "code",
   "execution_count": 1,
   "id": "adc4cded-be2a-4e01-8b3b-3ad8388885f6",
   "metadata": {},
   "outputs": [
    {
     "name": "stdout",
     "output_type": "stream",
     "text": [
      "Obtaining file:///Users/Jake/Dropbox/RLAs/SHANGRLA\n",
      "  Installing build dependencies ... \u001b[?done\n",
      "\u001b[?25h  Checking if build backend supports build_editable ... \u001b[?25ldone\n",
      "\u001b[?25h  Getting requirements to build editable ... \u001b[?25done\n",
      "\u001b[?25h  Preparing editable metadata (pyproject.toml) ... \u001b[?25ldone\n",
      "\u001b[?25hRequirement already satisfied: numpy in /Users/Jake/opt/anaconda3/envs/strat/lib/python3.13/site-packages (from shangrla==0.1.0) (2.2.2)\n",
      "Requirement already satisfied: scipy>=0.17.1 in /Users/Jake/opt/anaconda3/envs/strat/lib/python3.13/site-packages (from shangrla==0.1.0) (1.15.1)\n",
      "Requirement already satisfied: cryptorandom>=0.2 in /Users/Jake/opt/anaconda3/envs/strat/lib/python3.13/site-packages (from shangrla==0.1.0) (0.3)\n",
      "Requirement already satisfied: svgling in /Users/Jake/opt/anaconda3/envs/strat/lib/python3.13/site-packages (from shangrla==0.1.0) (0.5.0)\n",
      "Requirement already satisfied: colorama in /Users/Jake/opt/anaconda3/envs/strat/lib/python3.13/site-packages (from shangrla==0.1.0) (0.4.6)\n",
      "Requirement already satisfied: svgwrite in /Users/Jake/opt/anaconda3/envs/strat/lib/python3.13/site-packages (from svgling->shangrla==0.1.0) (1.4.3)\n",
      "Building wheels for collected packages: shangrla\n",
      "  Building editable for shangrla (pyproject.toml) ... \u001b[?25done\n",
      "\u001b[?25h  Created wheel for shangrla: filename=shangrla-0.1.0-0.editable-py3-none-any.whl size=17608 sha256=d268a76b19f2fabf67832dba9f489a73e28df543ba45c64757a80f947701e15e\n",
      "  Stored in directory: /private/var/folders/zt/byjw_s1s4g5b01_cjmqw49480000gn/T/pip-ephem-wheel-cache-q7g6sc3s/wheels/c6/9d/bd/003bf7fc78ab0519a2f02830c16dcbde75f331b936bafa0fc4\n",
      "Successfully built shangrla\n",
      "Installing collected packages: shangrla\n",
      "  Attempting uninstall: shangrla\n",
      "    Found existing installation: shangrla 0.1.0\n",
      "    Uninstalling shangrla-0.1.0:\n",
      "      Successfully uninstalled shangrla-0.1.0\n",
      "Successfully installed shangrla-0.1.0\n"
     ]
    }
   ],
   "source": [
    "# install SHANGRLA from local directory\n",
    "!pip install -e ../../SHANGRLA"
   ]
  },
  {
   "cell_type": "code",
   "execution_count": 2,
   "id": "e022971b-163e-4e8a-ad26-95ece70ba6ed",
   "metadata": {},
   "outputs": [],
   "source": [
    "import math\n",
    "import json\n",
    "import warnings\n",
    "import numpy as np\n",
    "import pandas as pd\n",
    "import csv\n",
    "import copy\n",
    "import matplotlib.pyplot as plt\n",
    "import scipy as sp\n",
    "import itertools\n",
    "import random\n",
    "import time\n",
    "\n",
    "import glob\n",
    "import os, sys\n",
    "\n",
    "from collections import OrderedDict\n",
    "from IPython.display import display, HTML\n",
    "\n",
    "from cryptorandom.cryptorandom import SHA256, int_from_hash\n",
    "from cryptorandom.sample import sample_by_index\n",
    "\n",
    "from shangrla.core.Audit import Audit, Assertion, Assorter, Contest, CVR, Stratum\n",
    "from shangrla.core.NonnegMean import NonnegMean\n",
    "from shangrla.formats.Dominion import Dominion\n",
    "\n",
    "from utils import Bets, Allocations, Weights, mart, lower_confidence_bound, global_lower_bound,\\\n",
    "    intersection_mart, plot_marts_eta, construct_exhaustive_eta_grid, selector,\\\n",
    "    construct_eta_grid_plurcomp, construct_eta_bands, simulate_plurcomp, PGD, convex_uits,\\\n",
    "    banded_uits, brute_force_uits, generate_oneaudit_population"
   ]
  },
  {
   "cell_type": "markdown",
   "id": "e8942dd6-8385-487e-ada1-cf9744d954dd",
   "metadata": {},
   "source": [
    "### SF CVR download info\n",
    "Download the SF CVRs from https://sfelections.org/results/20241105w/detail.html \n",
    "\n",
    "Under the 'Final Report' tab click \"Cast Vote Record (Raw data) - JSON\" to download a zip file with all the CVRs. You will edit the file path for 'cvr_file' below based on where you put the CVR folder once downloaded."
   ]
  },
  {
   "cell_type": "markdown",
   "id": "65e84187-30bc-49a3-82f7-45dcf9014666",
   "metadata": {},
   "source": [
    "### Define audit parameters"
   ]
  },
  {
   "cell_type": "code",
   "execution_count": 3,
   "id": "c8629671-f413-4fe5-a3e5-3339aad4d686",
   "metadata": {},
   "outputs": [],
   "source": [
    "audit = Audit.from_dict({\n",
    "         'seed':           12345678901234567890,\n",
    "         'sim_seed':       314159265,\n",
    "         'cvr_file':       './sf-cvrs-2024/CvrExport_*.json', # Edit with your file path\n",
    "         'manifest_file':  './sf-cvrs-2024/BallotTypeManifest.json',\n",
    "         'sample_file':    '...', # EDIT\n",
    "         'mvr_file':       '...', # EDIT\n",
    "         'log_file':       '...', # EDIT\n",
    "         'quantile':       0.8,\n",
    "         'error_rate_1':   0.0,\n",
    "         'error_rate_2':   0.0,\n",
    "         'reps':           100,\n",
    "         'strata':         {'stratum_1': {'max_cards':   1603908, \n",
    "                                          'use_style':   True,\n",
    "                                          'replacement': False\n",
    "                                         }\n",
    "                           }\n",
    "        })"
   ]
  },
  {
   "cell_type": "markdown",
   "id": "5d58e760-3937-4621-906b-4895a8c0046b",
   "metadata": {},
   "source": [
    "### Read CVRs"
   ]
  },
  {
   "cell_type": "code",
   "execution_count": 4,
   "id": "02537f75-81c9-4496-a9dd-981f11e56ba2",
   "metadata": {},
   "outputs": [],
   "source": [
    "## Read the CVRs\n",
    "# Group = 1 is precinct, 2 is vote-by-mail\n",
    "# tally_pool will give precinct, pool will indicate if has CVRs\n",
    "cvr_list = []\n",
    "for _fname in glob.glob(audit.cvr_file):\n",
    "    cvr_list.extend(Dominion.read_cvrs(_fname, use_current=True, enforce_rules=True, include_groups=[1,2],\n",
    "                                      pool_groups=[1]))"
   ]
  },
  {
   "cell_type": "markdown",
   "id": "48f1c61a-095c-4978-999d-e46ca9026598",
   "metadata": {},
   "source": [
    "### Tabulate votes cast and display for mayoral contest"
   ]
  },
  {
   "cell_type": "code",
   "execution_count": 5,
   "id": "62e5b24d-a5aa-4227-89b1-4b48a01f097b",
   "metadata": {},
   "outputs": [],
   "source": [
    "# Tabulate votes for each contest\n",
    "vote_tabulation = CVR.tabulate_votes(cvr_list)"
   ]
  },
  {
   "cell_type": "code",
   "execution_count": 6,
   "id": "a7370228-5d26-4f2e-b091-e4c8c59e20e9",
   "metadata": {},
   "outputs": [
    {
     "name": "stdout",
     "output_type": "stream",
     "text": [
      "defaultdict(<class 'int'>, {'55': 204829, '57': 257051, '62': 243460, '65': 31455, '64': 117898, '61': 192214, '54': 43067, '56': 53638, '58': 54318, '66': 68829, '59': 49611, '60': 34424, '63': 51138, '173': 29, '176': 9, '175': 10})\n",
      "1401980\n"
     ]
    }
   ],
   "source": [
    "# Mayor contest is contest ID 18\n",
    "print(vote_tabulation['18']) # votes for candidates\n",
    "print(sum(vote_tabulation['18'].values())) # total votes\n",
    "\n",
    "# President contest is contest ID 1\n",
    "# print(vote_tabulation['1']) # votes for candidates\n",
    "# print(sum(vote_tabulation['1'].values())) # total votes"
   ]
  },
  {
   "cell_type": "code",
   "execution_count": 7,
   "id": "434fd90c-eaf7-4caa-8090-3f8a31d0bc57",
   "metadata": {},
   "outputs": [
    {
     "name": "stdout",
     "output_type": "stream",
     "text": [
      "410105\n"
     ]
    }
   ],
   "source": [
    "# count number of CVRs with mayoral contest\n",
    "mayor = 0\n",
    "for cvr in cvr_list:\n",
    "    if cvr.has_contest('18'):\n",
    "        mayor = mayor + 1\n",
    "\n",
    "print(mayor)"
   ]
  },
  {
   "cell_type": "markdown",
   "id": "12f4f346-6cf3-4a21-a16c-b187875c64e3",
   "metadata": {},
   "source": [
    "### Define contest dict"
   ]
  },
  {
   "cell_type": "code",
   "execution_count": 8,
   "id": "54e5f5cb-43a7-491d-a20a-b5748e2a8b2b",
   "metadata": {},
   "outputs": [],
   "source": [
    "# Mayoral contest\n",
    "contest_dict = {\n",
    "               '18':{\n",
    "                   'name': 'MAYOR',\n",
    "                   'risk_limit':       0.05,\n",
    "                   'cards':            410105,\n",
    "                   'choice_function':  Contest.SOCIAL_CHOICE_FUNCTION.IRV,\n",
    "                   'n_winners':        1,\n",
    "                   'candidates':       ['54', '55', '56', '57', '58', '59', '60', '61', '62', '63', '64', '65', '66', '173', '175', '176'],\n",
    "                   'winner':           ['57'],\n",
    "                   'assertion_file':   './November_2024_Mayor/contest_18_assertions.json',\n",
    "                   'audit_type':       Audit.AUDIT_TYPE.ONEAUDIT,\n",
    "                   'test':             NonnegMean.betting_mart,\n",
    "                   'bet':              NonnegMean.kelly_optimal\n",
    "                  }\n",
    "               }\n",
    "\n",
    "# contest_dict = {\n",
    "#                '1':{\n",
    "#                    'name': 'PRESIDENT AND VICE PRESIDENT',\n",
    "#                    'risk_limit':       0.05,\n",
    "#                    'cards':            412121,\n",
    "#                    'choice_function':  Contest.SOCIAL_CHOICE_FUNCTION.PLURALITY,\n",
    "#                    'n_winners':        1,\n",
    "#                    'candidates':       ['5', '2', '4', '6', '3', '1', '174'],\n",
    "#                    'winner':           ['5'],\n",
    "#                    'assertion_file':   None,\n",
    "#                    'audit_type':       Audit.AUDIT_TYPE.ONEAUDIT,\n",
    "#                    'test':             NonnegMean.alpha_mart,\n",
    "#                    'estim':            NonnegMean.shrink_trunc,\n",
    "#                    'test_kwargs':      {'d': 100, 'f': 0}\n",
    "#                   }\n",
    "#                }\n",
    "\n",
    "contests = Contest.from_dict_of_dicts(contest_dict)"
   ]
  },
  {
   "cell_type": "markdown",
   "id": "7b116898-f93e-4ef5-a2a6-5b7a089ff748",
   "metadata": {},
   "source": [
    "### IRV assertions"
   ]
  },
  {
   "cell_type": "code",
   "execution_count": 9,
   "id": "35653e5c-fb59-4468-b398-55c20297ddc3",
   "metadata": {},
   "outputs": [],
   "source": [
    "# add IRV assertions from the external JSON file\n",
    "for c in contests:\n",
    "    if contests[c].choice_function == Contest.SOCIAL_CHOICE_FUNCTION.IRV:\n",
    "        with open(contests[c].assertion_file, 'r') as f:\n",
    "            contests[c].assertion_json = json.load(f)['audits'][0]['assertions']"
   ]
  },
  {
   "cell_type": "code",
   "execution_count": 10,
   "id": "283dd4aa-690a-4b89-8c28-3de1a2fd6837",
   "metadata": {},
   "outputs": [
    {
     "data": {
      "text/plain": [
       "True"
      ]
     },
     "execution_count": 10,
     "metadata": {},
     "output_type": "execute_result"
    }
   ],
   "source": [
    "# construct the dict of dicts of assertions for each contest\n",
    "Assertion.make_all_assertions(contests)"
   ]
  },
  {
   "cell_type": "markdown",
   "id": "081e2cd5-284c-4cc0-a8cb-dd5e2cfd8f69",
   "metadata": {},
   "source": [
    "### Check CVRs and set tally pools"
   ]
  },
  {
   "cell_type": "code",
   "execution_count": 11,
   "id": "09e0c214-bb29-4450-af7f-be67ee9d51af",
   "metadata": {},
   "outputs": [
    {
     "name": "stdout",
     "output_type": "stream",
     "text": [
      "cvrs: 1603908 unique IDs: 1603908\n"
     ]
    }
   ],
   "source": [
    "# check that the CVR IDs are unique\n",
    "unique_ids = len(set(c.id for c in cvr_list))\n",
    "print(f'cvrs: {len(cvr_list)} unique IDs: {unique_ids}')\n",
    "assert unique_ids == len(cvr_list), 'CVR IDs are not unique'"
   ]
  },
  {
   "cell_type": "code",
   "execution_count": 12,
   "id": "2b170693-b9e6-49b6-a6ee-b986318dfb25",
   "metadata": {},
   "outputs": [
    {
     "data": {
      "text/plain": [
       "1603908"
      ]
     },
     "execution_count": 12,
     "metadata": {},
     "output_type": "execute_result"
    }
   ],
   "source": [
    "# ensure every CVR in each tally_pool has the same value of `pool`\n",
    "cvr_list = CVR.check_tally_pools(cvr_list)\n",
    "len(cvr_list)"
   ]
  },
  {
   "cell_type": "code",
   "execution_count": 13,
   "id": "74ba53c8-c806-4d65-9629-edbf0c55d801",
   "metadata": {},
   "outputs": [
    {
     "data": {
      "text/plain": [
       "4223"
      ]
     },
     "execution_count": 13,
     "metadata": {},
     "output_type": "execute_result"
    }
   ],
   "source": [
    "# find the set of tally_pools for which pool==True\n",
    "pools = set(c.tally_pool for c in cvr_list if c.pool)\n",
    "len(pools)"
   ]
  },
  {
   "cell_type": "code",
   "execution_count": 14,
   "id": "6f8254ea-7bab-4999-b891-f0913cbfafc1",
   "metadata": {},
   "outputs": [
    {
     "data": {
      "text/plain": [
       "True"
      ]
     },
     "execution_count": 14,
     "metadata": {},
     "output_type": "execute_result"
    }
   ],
   "source": [
    "# make dict of all contest IDs mentioned in each tally_pool of CVRs for which pool==True\n",
    "tally_pools = CVR.pool_contests(cvr_list)\n",
    "\n",
    "# ensure every CVR in each tally_pool for which pool==True has every contest in that tally_pool\n",
    "CVR.add_pool_contests(cvr_list, tally_pools)"
   ]
  },
  {
   "cell_type": "code",
   "execution_count": 15,
   "id": "117dc26d-2c8d-49e0-a1b4-89c38e82811d",
   "metadata": {},
   "outputs": [
    {
     "name": "stderr",
     "output_type": "stream",
     "text": [
      "/Users/Jake/Dropbox/RLAs/SHANGRLA/shangrla/core/Audit.py:2831: UserWarning: 567598 cards contain contest 18 but upper bound is 410105\n",
      "  warnings.warn(f'{found} cards contain contest {c} but upper bound is {con.cards}')\n"
     ]
    }
   ],
   "source": [
    "Contest.check_cards(contests, cvr_list, force=True)"
   ]
  },
  {
   "cell_type": "code",
   "execution_count": 16,
   "id": "720d8524-5f4d-478e-9baa-d8e183efabbc",
   "metadata": {},
   "outputs": [],
   "source": [
    "# set pooled assorter means\n",
    "for con in contests.values():\n",
    "    for a in con.assertions.values():\n",
    "        a.assorter.set_tally_pool_means(cvr_list=cvr_list, tally_pools=tally_pools)"
   ]
  },
  {
   "cell_type": "markdown",
   "id": "fcb92614-fa16-4e58-962c-c4bcd4673240",
   "metadata": {},
   "source": [
    "### Set and display assorter margins"
   ]
  },
  {
   "cell_type": "code",
   "execution_count": 17,
   "id": "aa2511ca-b98c-414a-bd2d-4fede926ff1e",
   "metadata": {},
   "outputs": [
    {
     "name": "stdout",
     "output_type": "stream",
     "text": [
      "minimum assorter margin: 0.05369469237030433\n",
      "margins in contest 18:\n",
      "\tassertion 62 v 55 elim 54 56 57 58 59 60 61 63 64 65 66: 0.05998259331428235\n",
      "\tassertion 57 v 55 elim 54 56 58 59 60 63 64 65 66: 0.05369469237030433\n",
      "\tassertion 57 v 62 elim 54 55 56 58 59 60 61 63 64 65 66: 0.05924439480054544\n",
      "\tassertion 62 v 61 elim 54 55 56 57 58 59 60 63 64 65 66: 0.06484871334994136\n",
      "\tassertion 57 v 64: 0.0724244976197943\n",
      "\tassertion 57 v 55 elim 54 56 58 59 60 62 63 64 65 66: 0.07740513532464877\n",
      "\tassertion 57 v 55 elim 54 56 58 59 60 61 63 64 65 66: 0.08016413024711144\n",
      "\tassertion 57 v 61 elim 54 55 56 58 59 60 63 64 65 66: 0.08194355864537939\n",
      "\tassertion 57 v 55 elim 54 56 58 59 60 61 62 63 64 65 66: 0.11944897621203743\n",
      "\tassertion 57 v 61 elim 54 55 56 58 59 60 62 63 64 65 66: 0.11794615203013392\n",
      "\tassertion 57 v 66: 0.12430628719621994\n",
      "\tassertion 57 v 59: 0.1509536679128538\n",
      "\tassertion 57 v 54: 0.15234021261526642\n",
      "\tassertion 57 v 58: 0.14435392654660517\n",
      "\tassertion 57 v 56: 0.14085849492070102\n",
      "\tassertion 57 v 60: 0.16055201040172795\n",
      "\tassertion 57 v 63: 0.14538106194877365\n",
      "\tassertion 57 v 65: 0.1620213601880205\n"
     ]
    }
   ],
   "source": [
    "# reported assorter margins for each assertion, and the minimum margin, which drives the sample sizes\n",
    "min_margin = Assertion.set_all_margins_from_cvrs(audit=audit, contests=contests, cvr_list=cvr_list)\n",
    "\n",
    "print(f'minimum assorter margin: {min_margin}')\n",
    "Contest.print_margins(contests)"
   ]
  },
  {
   "cell_type": "markdown",
   "id": "65bc846f-265c-4af7-9340-e6df3e12b5fa",
   "metadata": {},
   "source": [
    "### Generate and view population(s) of overstatement assorters"
   ]
  },
  {
   "cell_type": "code",
   "execution_count": 18,
   "id": "1d6f6173-902b-45c9-8d96-1cd2d427fc84",
   "metadata": {},
   "outputs": [],
   "source": [
    "assertion_names = []\n",
    "overstatement_pop = {}\n",
    "\n",
    "for con in contests.values():\n",
    "    for name, a in con.assertions.items():\n",
    "        assertion_names.append(name)\n",
    "        overstatement_pop[name] = []\n",
    "        #tally_pool_values = a.assorter.count_tally_pool_vals(cvr_list=cvr_list, tally_pools=tally_pools)\n",
    "        #overstatement_mean = a.overstatement_assorter_mean()\n",
    "        for c in cvr_list:\n",
    "            if c.has_contest(con.id):\n",
    "                overstatement_pop[name].append(a.overstatement_assorter(c, c, use_style = True))\n",
    "        overstatement_pop[name] = np.array(overstatement_pop[name])"
   ]
  },
  {
   "cell_type": "code",
   "execution_count": 19,
   "id": "625c4abe-4c78-42f1-a338-fd87d04d1016",
   "metadata": {},
   "outputs": [
    {
     "data": {
      "image/png": "[encoded data removed]",
      "text/plain": [
       "<Figure size 640x480 with 1 Axes>"
      ]
     },
     "metadata": {},
     "output_type": "display_data"
    }
   ],
   "source": [
    "# change index of assertion_names to view different assorter populations\n",
    "plt.hist(overstatement_pop[assertion_names[5]], bins=30, edgecolor='black')\n",
    "\n",
    "# Add labels\n",
    "plt.xlabel(\"Assorter values\")\n",
    "plt.ylabel(\"Frequency\")\n",
    "\n",
    "# Display\n",
    "plt.show()"
   ]
  },
  {
   "cell_type": "markdown",
   "id": "e3ecaae8-dfa0-4706-8bd5-90e061992011",
   "metadata": {},
   "source": [
    "# Simulate workloads"
   ]
  },
  {
   "cell_type": "markdown",
   "id": "8b7b5846-bdab-4608-92c0-0b7e1b063107",
   "metadata": {},
   "source": [
    "### Kelly optimal"
   ]
  },
  {
   "cell_type": "code",
   "execution_count": 20,
   "id": "81d6542f-f5ad-4386-9948-a01ab1a3a085",
   "metadata": {},
   "outputs": [],
   "source": [
    "contest_dict = {\n",
    "               '18':{\n",
    "                   'name': 'MAYOR',\n",
    "                   'risk_limit':       0.05,\n",
    "                   'cards':            567598,\n",
    "                   'choice_function':  Contest.SOCIAL_CHOICE_FUNCTION.IRV,\n",
    "                   'n_winners':        1,\n",
    "                   'candidates':       ['54', '55', '56', '57', '58', '59', '60', '61', '62', '63', '64', '65', '66', '173', '175', '176'],\n",
    "                   'winner':           ['57'],\n",
    "                   'assertion_file':   './November_2024_Mayor/contest_18_assertions.json',\n",
    "                   'audit_type':       Audit.AUDIT_TYPE.ONEAUDIT,\n",
    "                   'test':             NonnegMean.betting_mart,\n",
    "                   'bet':              NonnegMean.kelly_optimal,\n",
    "                   'test_kwargs': {'d': 100, 'f': 0}\n",
    "                  }\n",
    "}\n",
    "contests = Contest.from_dict_of_dicts(contest_dict)\n",
    "for c in contests:\n",
    "    if contests[c].choice_function == Contest.SOCIAL_CHOICE_FUNCTION.IRV:\n",
    "        with open(contests[c].assertion_file, 'r') as f:\n",
    "            contests[c].assertion_json = json.load(f)['audits'][0]['assertions']\n",
    "Assertion.make_all_assertions(contests)\n",
    "min_margin = Assertion.set_all_margins_from_cvrs(audit=audit, contests=contests, cvr_list=cvr_list)"
   ]
  },
  {
   "cell_type": "code",
   "execution_count": 21,
   "id": "6d794028-f370-4a49-a254-879b8da5b32e",
   "metadata": {},
   "outputs": [
    {
     "name": "stdout",
     "output_type": "stream",
     "text": [
      "sample_size=112\n",
      "[('18', 111)]\n",
      "CPU times: user 1min 14s, sys: 332 ms, total: 1min 14s\n",
      "Wall time: 1min 14s\n"
     ]
    }
   ],
   "source": [
    "%%time\n",
    "sample_size = audit.find_sample_size(contests, cvrs=cvr_list)  \n",
    "print(f'{sample_size=}\\n{[(i, c.sample_size) for i, c in contests.items()]}')"
   ]
  },
  {
   "cell_type": "markdown",
   "id": "db0f7f7b-bd02-480e-a7e4-967667a16e94",
   "metadata": {},
   "source": [
    "### ALPHA"
   ]
  },
  {
   "cell_type": "code",
   "execution_count": 22,
   "id": "eb93daeb-8d35-4cae-84c2-a93d2d9fe932",
   "metadata": {},
   "outputs": [],
   "source": [
    "contest_dict = {\n",
    "               '18':{\n",
    "                   'name': 'MAYOR',\n",
    "                   'risk_limit':       0.05,\n",
    "                   'cards':            567598,\n",
    "                   'choice_function':  Contest.SOCIAL_CHOICE_FUNCTION.IRV,\n",
    "                   'n_winners':        1,\n",
    "                   'candidates':       ['54', '55', '56', '57', '58', '59', '60', '61', '62', '63', '64', '65', '66', '173', '175', '176'],\n",
    "                   'winner':           ['57'],\n",
    "                   'assertion_file':   './November_2024_Mayor/contest_18_assertions.json',\n",
    "                   'audit_type':       Audit.AUDIT_TYPE.ONEAUDIT,\n",
    "                   'test':             NonnegMean.alpha_mart,\n",
    "                   'estim':              NonnegMean.shrink_trunc,\n",
    "                   'test_kwargs': {'d': 100, 'f': 0}\n",
    "                  }\n",
    "}\n",
    "contests = Contest.from_dict_of_dicts(contest_dict)\n",
    "for c in contests:\n",
    "    if contests[c].choice_function == Contest.SOCIAL_CHOICE_FUNCTION.IRV:\n",
    "        with open(contests[c].assertion_file, 'r') as f:\n",
    "            contests[c].assertion_json = json.load(f)['audits'][0]['assertions']\n",
    "Assertion.make_all_assertions(contests)\n",
    "min_margin = Assertion.set_all_margins_from_cvrs(audit=audit, contests=contests, cvr_list=cvr_list)"
   ]
  },
  {
   "cell_type": "code",
   "execution_count": 23,
   "id": "55b25d8a-f018-420a-9caf-cf9f731bfbfb",
   "metadata": {},
   "outputs": [
    {
     "name": "stdout",
     "output_type": "stream",
     "text": [
      "sample_size=193\n",
      "[('18', 192)]\n",
      "CPU times: user 17min 5s, sys: 24.1 s, total: 17min 29s\n",
      "Wall time: 36min 2s\n"
     ]
    }
   ],
   "source": [
    "%%time\n",
    "sample_size = audit.find_sample_size(contests, cvrs=cvr_list)  \n",
    "print(f'{sample_size=}\\n{[(i, c.sample_size) for i, c in contests.items()]}')"
   ]
  },
  {
   "cell_type": "markdown",
   "id": "4b14bdf3-33de-4246-bb6a-f2f70e0d6448",
   "metadata": {},
   "source": [
    "### COBRA"
   ]
  },
  {
   "cell_type": "code",
   "execution_count": 24,
   "id": "f44bdcef-4db6-404a-84a1-e78e6c1e536a",
   "metadata": {},
   "outputs": [],
   "source": [
    "contest_dict = {\n",
    "               '18':{\n",
    "                   'name': 'MAYOR',\n",
    "                   'risk_limit':       0.05,\n",
    "                   'cards':            567598,\n",
    "                   'choice_function':  Contest.SOCIAL_CHOICE_FUNCTION.IRV,\n",
    "                   'n_winners':        1,\n",
    "                   'candidates':       ['54', '55', '56', '57', '58', '59', '60', '61', '62', '63', '64', '65', '66', '173', '175', '176'],\n",
    "                   'winner':           ['57'],\n",
    "                   'assertion_file':   './November_2024_Mayor/contest_18_assertions.json',\n",
    "                   'audit_type':       Audit.AUDIT_TYPE.ONEAUDIT,\n",
    "                   'test':             NonnegMean.betting_mart,\n",
    "                   'bet':              NonnegMean.optimal_comparison\n",
    "                  }\n",
    "}\n",
    "contests = Contest.from_dict_of_dicts(contest_dict)\n",
    "for c in contests:\n",
    "    if contests[c].choice_function == Contest.SOCIAL_CHOICE_FUNCTION.IRV:\n",
    "        with open(contests[c].assertion_file, 'r') as f:\n",
    "            contests[c].assertion_json = json.load(f)['audits'][0]['assertions']\n",
    "Assertion.make_all_assertions(contests)\n",
    "min_margin = Assertion.set_all_margins_from_cvrs(audit=audit, contests=contests, cvr_list=cvr_list)"
   ]
  },
  {
   "cell_type": "code",
   "execution_count": 25,
   "id": "ed4f3c33-3261-4449-96a4-37a6a5c08450",
   "metadata": {},
   "outputs": [
    {
     "name": "stdout",
     "output_type": "stream",
     "text": [
      "sample_size=213\n",
      "[('18', 213)]\n",
      "CPU times: user 1min 11s, sys: 190 ms, total: 1min 11s\n",
      "Wall time: 1min 11s\n"
     ]
    }
   ],
   "source": [
    "%%time\n",
    "sample_size = audit.find_sample_size(contests, cvrs=cvr_list)  \n",
    "print(f'{sample_size=}\\n{[(i, c.sample_size) for i, c in contests.items()]}')"
   ]
  },
  {
   "cell_type": "markdown",
   "id": "a12000ad-29c8-4186-85fb-10b44d7ee734",
   "metadata": {},
   "source": [
    "### Universal Portfolio"
   ]
  },
  {
   "cell_type": "code",
   "execution_count": 26,
   "id": "bfad984d-0a71-4970-a7b2-14581ff097aa",
   "metadata": {},
   "outputs": [],
   "source": [
    "contest_dict = {\n",
    "               '18':{\n",
    "                   'name': 'MAYOR',\n",
    "                   'risk_limit':       0.05,\n",
    "                   'cards':            567598,\n",
    "                   'choice_function':  Contest.SOCIAL_CHOICE_FUNCTION.IRV,\n",
    "                   'n_winners':        1,\n",
    "                   'candidates':       ['54', '55', '56', '57', '58', '59', '60', '61', '62', '63', '64', '65', '66', '173', '175', '176'],\n",
    "                   'winner':           ['57'],\n",
    "                   'assertion_file':   './November_2024_Mayor/contest_18_assertions.json',\n",
    "                   'audit_type':       Audit.AUDIT_TYPE.ONEAUDIT,\n",
    "                   'test':             NonnegMean.mix_betting_mart\n",
    "                  }\n",
    "}\n",
    "contests = Contest.from_dict_of_dicts(contest_dict)\n",
    "for c in contests:\n",
    "    if contests[c].choice_function == Contest.SOCIAL_CHOICE_FUNCTION.IRV:\n",
    "        with open(contests[c].assertion_file, 'r') as f:\n",
    "            contests[c].assertion_json = json.load(f)['audits'][0]['assertions']\n",
    "Assertion.make_all_assertions(contests)\n",
    "min_margin = Assertion.set_all_margins_from_cvrs(audit=audit, contests=contests, cvr_list=cvr_list)"
   ]
  },
  {
   "cell_type": "code",
   "execution_count": 27,
   "id": "0567ac95-b513-414d-9a99-3deea10f5319",
   "metadata": {},
   "outputs": [
    {
     "name": "stderr",
     "output_type": "stream",
     "text": [
      "/Users/Jake/opt/anaconda3/envs/strat/lib/python3.13/site-packages/numpy/_core/_methods.py:135: RuntimeWarning: overflow encountered in reduce\n",
      "  ret = umr_sum(arr, axis, dtype, out, keepdims, where=where)\n"
     ]
    },
    {
     "name": "stdout",
     "output_type": "stream",
     "text": [
      "sample_size=165\n",
      "[('18', 165)]\n",
      "CPU times: user 29min 16s, sys: 3.33 s, total: 29min 19s\n",
      "Wall time: 29min 20s\n"
     ]
    }
   ],
   "source": [
    "%%time\n",
    "sample_size = audit.find_sample_size(contests, cvrs=cvr_list)  \n",
    "print(f'{sample_size=}\\n{[(i, c.sample_size) for i, c in contests.items()]}')"
   ]
  },
  {
   "cell_type": "markdown",
   "id": "c0e5971c-9f70-4a57-b3c2-3305929c283c",
   "metadata": {},
   "source": [
    "### AGRAPA"
   ]
  },
  {
   "cell_type": "code",
   "execution_count": 28,
   "id": "f21d19f0-e509-49df-8148-6c2adf4e36e7",
   "metadata": {},
   "outputs": [],
   "source": [
    "contest_dict = {\n",
    "               '18':{\n",
    "                   'name': 'MAYOR',\n",
    "                   'risk_limit':       0.05,\n",
    "                   'cards':            567598,\n",
    "                   'choice_function':  Contest.SOCIAL_CHOICE_FUNCTION.IRV,\n",
    "                   'n_winners':        1,\n",
    "                   'candidates':       ['54', '55', '56', '57', '58', '59', '60', '61', '62', '63', '64', '65', '66', '173', '175', '176'],\n",
    "                   'winner':           ['57'],\n",
    "                   'assertion_file':   './November_2024_Mayor/contest_18_assertions.json',\n",
    "                   'audit_type':       Audit.AUDIT_TYPE.ONEAUDIT,\n",
    "                   'test':             NonnegMean.betting_mart,\n",
    "                   'bet':              NonnegMean.agrapa\n",
    "                  }\n",
    "}\n",
    "contests = Contest.from_dict_of_dicts(contest_dict)\n",
    "for c in contests:\n",
    "    if contests[c].choice_function == Contest.SOCIAL_CHOICE_FUNCTION.IRV:\n",
    "        with open(contests[c].assertion_file, 'r') as f:\n",
    "            contests[c].assertion_json = json.load(f)['audits'][0]['assertions']\n",
    "Assertion.make_all_assertions(contests)\n",
    "min_margin = Assertion.set_all_margins_from_cvrs(audit=audit, contests=contests, cvr_list=cvr_list)"
   ]
  },
  {
   "cell_type": "code",
   "execution_count": 29,
   "id": "d751d80c-3266-41b9-8ff7-503edc15d001",
   "metadata": {},
   "outputs": [
    {
     "name": "stdout",
     "output_type": "stream",
     "text": [
      "sample_size=112\n",
      "[('18', 111)]\n",
      "CPU times: user 17min 5s, sys: 23.8 s, total: 17min 29s\n",
      "Wall time: 17min 29s\n"
     ]
    }
   ],
   "source": [
    "%%time\n",
    "sample_size = audit.find_sample_size(contests, cvrs=cvr_list)  \n",
    "print(f'{sample_size=}\\n{[(i, c.sample_size) for i, c in contests.items()]}')"
   ]
  }
 ],
 "metadata": {
  "kernelspec": {
   "display_name": "Python 3 (ipykernel)",
   "language": "python",
   "name": "python3"
  },
  "language_info": {
   "codemirror_mode": {
    "name": "ipython",
    "version": 3
   },
   "file_extension": ".py",
   "mimetype": "text/x-python",
   "name": "python",
   "nbconvert_exporter": "python",
   "pygments_lexer": "ipython3",
   "version": "3.9.21"
  }
 },
 "nbformat": 4,
 "nbformat_minor": 5
}
