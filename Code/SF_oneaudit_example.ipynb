{
 "cells": [
  {
   "cell_type": "code",
   "execution_count": 1,
   "id": "e022971b-163e-4e8a-ad26-95ece70ba6ed",
   "metadata": {},
   "outputs": [],
   "source": [
    "import math\n",
    "import json\n",
    "import warnings\n",
    "import numpy as np\n",
    "import pandas as pd\n",
    "import csv\n",
    "import copy\n",
    "import matplotlib.pyplot as plt\n",
    "import scipy as sp\n",
    "import itertools\n",
    "import random\n",
    "import time\n",
    "\n",
    "import glob\n",
    "import os, sys\n",
    "\n",
    "from collections import OrderedDict\n",
    "from IPython.display import display, HTML\n",
    "\n",
    "from cryptorandom.cryptorandom import SHA256, int_from_hash\n",
    "from cryptorandom.sample import sample_by_index\n",
    "\n",
    "from shangrla.core.Audit import Audit, Assertion, Assorter, Contest, CVR, Stratum\n",
    "from shangrla.core.NonnegMean import NonnegMean\n",
    "from shangrla.formats.Dominion import Dominion\n",
    "\n",
    "from utils import Bets, Allocations, Weights, mart, lower_confidence_bound, global_lower_bound,\\\n",
    "    intersection_mart, plot_marts_eta, construct_exhaustive_eta_grid, selector,\\\n",
    "    construct_eta_grid_plurcomp, construct_eta_bands, simulate_plurcomp, PGD, convex_uits,\\\n",
    "    banded_uits, brute_force_uits, generate_oneaudit_population"
   ]
  },
  {
   "cell_type": "markdown",
   "id": "e8942dd6-8385-487e-ada1-cf9744d954dd",
   "metadata": {},
   "source": [
    "### SF CVR download info\n",
    "Download the SF CVRs from https://sfelections.org/results/20241105w/detail.html \n",
    "\n",
    "Under the 'Final Report' tab click \"Cast Vote Record (Raw data) - JSON\" to download a zip file with all the CVRs. You will edit the file path for 'cvr_file' below based on where you put the CVR folder once downloaded."
   ]
  },
  {
   "cell_type": "code",
   "execution_count": 148,
   "id": "c8629671-f413-4fe5-a3e5-3339aad4d686",
   "metadata": {},
   "outputs": [],
   "source": [
    "audit = Audit.from_dict({\n",
    "         'seed':           12345678901234567890,\n",
    "         'sim_seed':       314159265,\n",
    "         'cvr_file':       '../../sf-cvrs-2024/CvrExport_*.json', # Edit with your file path\n",
    "         'manifest_file':  '../../sf-cvrs-2024/BallotTypeManifest.json',\n",
    "         'sample_file':    '...', # EDIT\n",
    "         'mvr_file':       '...', # EDIT\n",
    "         'log_file':       '...', # EDIT\n",
    "         'quantile':       0.8,\n",
    "         'error_rate_1':   0.001,\n",
    "         'error_rate_2':   0.0,\n",
    "         'reps':           200,\n",
    "         'strata':         {'stratum_1': {'max_cards':   1603908, \n",
    "                                          'use_style':   True,\n",
    "                                          'replacement': False\n",
    "                                         }\n",
    "                           }\n",
    "        })"
   ]
  },
  {
   "cell_type": "code",
   "execution_count": 149,
   "id": "02537f75-81c9-4496-a9dd-981f11e56ba2",
   "metadata": {},
   "outputs": [],
   "source": [
    "## Read the CVRs\n",
    "# Group = 1 is precinct, 2 is vote-by-mail\n",
    "# tally_pool will give precinct, pool will indicate if has CVRs\n",
    "cvr_list = []\n",
    "for _fname in glob.glob(audit.cvr_file):\n",
    "    cvr_list.extend(Dominion.read_cvrs(_fname, use_current=True, enforce_rules=True, include_groups=[1,2],\n",
    "                                      pool_groups=[1]))"
   ]
  },
  {
   "cell_type": "code",
   "execution_count": 150,
   "id": "62e5b24d-a5aa-4227-89b1-4b48a01f097b",
   "metadata": {},
   "outputs": [],
   "source": [
    "# Tabulate votes for each contest\n",
    "vote_tabulation = CVR.tabulate_votes(cvr_list)"
   ]
  },
  {
   "cell_type": "code",
   "execution_count": 151,
   "id": "a7370228-5d26-4f2e-b091-e4c8c59e20e9",
   "metadata": {},
   "outputs": [
    {
     "name": "stdout",
     "output_type": "stream",
     "text": [
      "defaultdict(<class 'int'>, {'55': 204829, '57': 257051, '62': 243460, '65': 31455, '64': 117898, '61': 192214, '54': 43067, '56': 53638, '58': 54318, '66': 68829, '59': 49611, '60': 34424, '63': 51138, '173': 29, '176': 9, '175': 10})\n",
      "1401980\n"
     ]
    }
   ],
   "source": [
    "# Mayor contest is contest ID 18\n",
    "print(vote_tabulation['18']) # votes for candidates\n",
    "print(sum(vote_tabulation['18'].values())) # total votes\n",
    "\n",
    "# President contest is contest ID 1\n",
    "# print(vote_tabulation['1']) # votes for candidates\n",
    "# print(sum(vote_tabulation['1'].values())) # total votes"
   ]
  },
  {
   "cell_type": "code",
   "execution_count": 153,
   "id": "434fd90c-eaf7-4caa-8090-3f8a31d0bc57",
   "metadata": {},
   "outputs": [
    {
     "name": "stdout",
     "output_type": "stream",
     "text": [
      "410105\n"
     ]
    }
   ],
   "source": [
    "# count number of CVRs with mayoral contest\n",
    "mayor = 0\n",
    "for cvr in cvr_list:\n",
    "    if cvr.has_contest('18'):\n",
    "        mayor = mayor + 1\n",
    "\n",
    "print(mayor)"
   ]
  },
  {
   "cell_type": "code",
   "execution_count": 154,
   "id": "54e5f5cb-43a7-491d-a20a-b5748e2a8b2b",
   "metadata": {},
   "outputs": [],
   "source": [
    "# Mayoral contest\n",
    "contest_dict = {\n",
    "               '18':{\n",
    "                   'name': 'MAYOR',\n",
    "                   'risk_limit':       0.05,\n",
    "                   'cards':            410105,\n",
    "                   'choice_function':  Contest.SOCIAL_CHOICE_FUNCTION.PLURALITY,\n",
    "                   'n_winners':        1,\n",
    "                   'candidates':       ['54', '55', '56', '57', '58', '59', '60', '61', '62', '63', '64', '65', '66', '173', '175', '176'],\n",
    "                   'winner':           ['57'],\n",
    "                   'assertion_file':   None,\n",
    "                   'audit_type':       Audit.AUDIT_TYPE.ONEAUDIT,\n",
    "                   'test':             NonnegMean.alpha_mart,\n",
    "                   'estim':            NonnegMean.shrink_trunc,\n",
    "                   'test_kwargs':      {'d': 100, 'f': 0}\n",
    "                  }\n",
    "               }\n",
    "\n",
    "# contest_dict = {\n",
    "#                '1':{\n",
    "#                    'name': 'PRESIDENT AND VICE PRESIDENT',\n",
    "#                    'risk_limit':       0.05,\n",
    "#                    'cards':            412121,\n",
    "#                    'choice_function':  Contest.SOCIAL_CHOICE_FUNCTION.PLURALITY,\n",
    "#                    'n_winners':        1,\n",
    "#                    'candidates':       ['5', '2', '4', '6', '3', '1', '174'],\n",
    "#                    'winner':           ['5'],\n",
    "#                    'assertion_file':   None,\n",
    "#                    'audit_type':       Audit.AUDIT_TYPE.ONEAUDIT,\n",
    "#                    'test':             NonnegMean.alpha_mart,\n",
    "#                    'estim':            NonnegMean.shrink_trunc,\n",
    "#                    'test_kwargs':      {'d': 100, 'f': 0}\n",
    "#                   }\n",
    "#                }\n",
    "\n",
    "contests = Contest.from_dict_of_dicts(contest_dict)"
   ]
  },
  {
   "cell_type": "code",
   "execution_count": 155,
   "id": "283dd4aa-690a-4b89-8c28-3de1a2fd6837",
   "metadata": {},
   "outputs": [
    {
     "data": {
      "text/plain": [
       "True"
      ]
     },
     "execution_count": 155,
     "metadata": {},
     "output_type": "execute_result"
    }
   ],
   "source": [
    "# construct the dict of dicts of assertions for each contest\n",
    "Assertion.make_all_assertions(contests)"
   ]
  },
  {
   "cell_type": "code",
   "execution_count": 156,
   "id": "09e0c214-bb29-4450-af7f-be67ee9d51af",
   "metadata": {},
   "outputs": [
    {
     "name": "stdout",
     "output_type": "stream",
     "text": [
      "cvrs: 1603908 unique IDs: 1603908\n"
     ]
    }
   ],
   "source": [
    "# check that the CVR IDs are unique\n",
    "unique_ids = len(set(c.id for c in cvr_list))\n",
    "print(f'cvrs: {len(cvr_list)} unique IDs: {unique_ids}')\n",
    "assert unique_ids == len(cvr_list), 'CVR IDs are not unique'"
   ]
  },
  {
   "cell_type": "code",
   "execution_count": 157,
   "id": "2b170693-b9e6-49b6-a6ee-b986318dfb25",
   "metadata": {},
   "outputs": [
    {
     "data": {
      "text/plain": [
       "1603908"
      ]
     },
     "execution_count": 157,
     "metadata": {},
     "output_type": "execute_result"
    }
   ],
   "source": [
    "# ensure every CVR in each tally_pool has the same value of `pool`\n",
    "cvr_list = CVR.check_tally_pools(cvr_list)\n",
    "len(cvr_list)"
   ]
  },
  {
   "cell_type": "code",
   "execution_count": 158,
   "id": "74ba53c8-c806-4d65-9629-edbf0c55d801",
   "metadata": {},
   "outputs": [
    {
     "data": {
      "text/plain": [
       "4223"
      ]
     },
     "execution_count": 158,
     "metadata": {},
     "output_type": "execute_result"
    }
   ],
   "source": [
    "# find the set of tally_pools for which pool==True\n",
    "pools = set(c.tally_pool for c in cvr_list if c.pool)\n",
    "len(pools)"
   ]
  },
  {
   "cell_type": "code",
   "execution_count": 159,
   "id": "6f8254ea-7bab-4999-b891-f0913cbfafc1",
   "metadata": {},
   "outputs": [
    {
     "data": {
      "text/plain": [
       "True"
      ]
     },
     "execution_count": 159,
     "metadata": {},
     "output_type": "execute_result"
    }
   ],
   "source": [
    "# make dict of all contest IDs mentioned in each tally_pool of CVRs for which pool==True\n",
    "tally_pools = CVR.pool_contests(cvr_list)\n",
    "\n",
    "# ensure every CVR in each tally_pool for which pool==True has every contest in that tally_pool\n",
    "CVR.add_pool_contests(cvr_list, tally_pools)"
   ]
  },
  {
   "cell_type": "code",
   "execution_count": 160,
   "id": "720d8524-5f4d-478e-9baa-d8e183efabbc",
   "metadata": {},
   "outputs": [],
   "source": [
    "# set pooled assorter means\n",
    "for con in contests.values():\n",
    "    for a in con.assertions.values():\n",
    "        a.assorter.set_tally_pool_means(cvr_list=cvr_list, tally_pools=tally_pools)"
   ]
  },
  {
   "cell_type": "markdown",
   "id": "65bc846f-265c-4af7-9340-e6df3e12b5fa",
   "metadata": {},
   "source": [
    "### ONEAudit Simulations"
   ]
  },
  {
   "cell_type": "code",
   "execution_count": 163,
   "id": "1d6f6173-902b-45c9-8d96-1cd2d427fc84",
   "metadata": {},
   "outputs": [],
   "source": [
    "# get vector of batch sizes, reported assorter means and proportion invalids\n",
    "batch_sizes = []\n",
    "A_c = []\n",
    "invalid = []\n",
    "tally_pool_val = []\n",
    "for con in contests.values():\n",
    "    for a in con.assertions.values():\n",
    "        if a.loser == '62': # London Breed loser\n",
    "            tally_pool_values = a.assorter.count_tally_pool_vals(cvr_list=cvr_list, tally_pools=tally_pools)\n",
    "            for t in tally_pool_values:\n",
    "                if tally_pool_values[t]['n'] != 0:\n",
    "                    tally_pool_val.append(t)\n",
    "                    batch_sizes.append(tally_pool_values[t]['n'])\n",
    "                    invalid.append(tally_pool_values[t][0.5]/tally_pool_values[t]['n'])\n",
    "                    A_c.append((0.5*tally_pool_values[t][0.5] + tally_pool_values[t][1])/tally_pool_values[t]['n'])"
   ]
  },
  {
   "cell_type": "code",
   "execution_count": 165,
   "id": "f1549002-94ee-44b8-8fae-22a7121c9658",
   "metadata": {},
   "outputs": [],
   "source": [
    "# Combine into DataFrame\n",
    "# sf_df = pd.DataFrame({\n",
    "#     'batch_sizes': batch_sizes,\n",
    "#     'A_c': A_c,\n",
    "#     'invalid': invalid\n",
    "# })\n",
    "\n",
    "# # Save to CSV\n",
    "# sf_df.to_csv(\"sf_batches_df.csv\", index=False)"
   ]
  },
  {
   "cell_type": "code",
   "execution_count": 166,
   "id": "c43192dc-afaa-473b-b5db-d872f2ed5d3c",
   "metadata": {},
   "outputs": [],
   "source": [
    "# Generate ONEAudit population\n",
    "assorter_pop_unscaled = generate_oneaudit_population(\n",
    "            batch_sizes = batch_sizes,\n",
    "            A_c = A_c,\n",
    "            invalid = invalid\n",
    "        )"
   ]
  },
  {
   "cell_type": "code",
   "execution_count": 167,
   "id": "10e43f6c-75a9-4cc4-9a38-3e821eb79f70",
   "metadata": {},
   "outputs": [],
   "source": [
    "eta_0_unscaled = 1/2 # global null mean\n",
    "u = 1 # upper bound for plurality assorters\n",
    "\n",
    "realized_A_c_global = np.dot(batch_sizes / np.sum(batch_sizes), A_c) # the actual global mean based on the batch sizes and means\n",
    "v_global = 2 * realized_A_c_global - 1 # global margin\n",
    "\n",
    "# assorters and global null are rescaled to [0,1] for compatability with functions from utils\n",
    "# NB: if stratification is used, may need to rethink rescaling: each stratum needs to be on [0,1] and the global null should still correspond to the assertion\n",
    "reported_assorter_pop = assorter_pop_unscaled / (2 * u / (2 * u - v_global))\n",
    "eta_0 = eta_0_unscaled / (2 * u / (2 * u - v_global))\n",
    "\n",
    "N = len(reported_assorter_pop) # the size of the population/sample\n",
    "\n",
    "bets_dict = {\n",
    "    \"cobra\": \"special handling\", # see below\n",
    "    \"agrapa\": lambda x, eta: Bets.agrapa(x, eta, c = 0.99),\n",
    "    \"alpha\": \"special handling\",\n",
    "    \"oracle-kelly-optimal\": \"special handling\",\n",
    "    \"ap-kelly-optimal\": \"special handling\",\n",
    "    \"universal-portfolio\": \"special handling\"}\n",
    "bets_grid = list(bets_dict.keys())"
   ]
  },
  {
   "cell_type": "code",
   "execution_count": 168,
   "id": "eab4f30e-c18b-443b-b308-eb20ba2e2026",
   "metadata": {},
   "outputs": [
    {
     "ename": "KeyboardInterrupt",
     "evalue": "",
     "output_type": "error",
     "traceback": [
      "\u001b[0;31m---------------------------------------------------------------------------\u001b[0m",
      "\u001b[0;31mKeyboardInterrupt\u001b[0m                         Traceback (most recent call last)",
      "Cell \u001b[0;32mIn[168], line 50\u001b[0m\n\u001b[1;32m     48\u001b[0m     m \u001b[38;5;241m=\u001b[39m mart(X, eta \u001b[38;5;241m=\u001b[39m eta_0, lam \u001b[38;5;241m=\u001b[39m ko_bet[\u001b[38;5;241m0\u001b[39m:\u001b[38;5;28mlen\u001b[39m(X)], N \u001b[38;5;241m=\u001b[39m N, log \u001b[38;5;241m=\u001b[39m \u001b[38;5;28;01mTrue\u001b[39;00m)\n\u001b[1;32m     49\u001b[0m \u001b[38;5;28;01melse\u001b[39;00m:\n\u001b[0;32m---> 50\u001b[0m     m \u001b[38;5;241m=\u001b[39m \u001b[43mmart\u001b[49m\u001b[43m(\u001b[49m\u001b[43mX\u001b[49m\u001b[43m,\u001b[49m\u001b[43m \u001b[49m\u001b[43meta\u001b[49m\u001b[43m \u001b[49m\u001b[38;5;241;43m=\u001b[39;49m\u001b[43m \u001b[49m\u001b[43meta_0\u001b[49m\u001b[43m,\u001b[49m\u001b[43m \u001b[49m\u001b[43mlam_func\u001b[49m\u001b[43m \u001b[49m\u001b[38;5;241;43m=\u001b[39;49m\u001b[43m \u001b[49m\u001b[43mbets_dict\u001b[49m\u001b[43m[\u001b[49m\u001b[43mbet\u001b[49m\u001b[43m]\u001b[49m\u001b[43m,\u001b[49m\u001b[43m \u001b[49m\u001b[43mN\u001b[49m\u001b[43m \u001b[49m\u001b[38;5;241;43m=\u001b[39;49m\u001b[43m \u001b[49m\u001b[43mN\u001b[49m\u001b[43m,\u001b[49m\u001b[43m \u001b[49m\u001b[43mlog\u001b[49m\u001b[43m \u001b[49m\u001b[38;5;241;43m=\u001b[39;49m\u001b[43m \u001b[49m\u001b[38;5;28;43;01mTrue\u001b[39;49;00m\u001b[43m)\u001b[49m\n\u001b[1;32m     51\u001b[0m \u001b[38;5;28;01mif\u001b[39;00m \u001b[38;5;28many\u001b[39m(m \u001b[38;5;241m>\u001b[39m \u001b[38;5;241m-\u001b[39mnp\u001b[38;5;241m.\u001b[39mlog(alpha)) \u001b[38;5;129;01mor\u001b[39;00m (\u001b[38;5;28mlen\u001b[39m(X) \u001b[38;5;241m>\u001b[39m\u001b[38;5;241m=\u001b[39m n_max):\n\u001b[1;32m     52\u001b[0m     done \u001b[38;5;241m=\u001b[39m \u001b[38;5;28;01mTrue\u001b[39;00m\n",
      "\u001b[0;31mKeyboardInterrupt\u001b[0m: "
     ]
    }
   ],
   "source": [
    "# Not stratified, simulate sample size \n",
    "rep_grid = np.arange(1) #allows reps within parallelized simulations\n",
    "n_reps = len(rep_grid)\n",
    "#sim_id = os.getenv('SLURM_ARRAY_TASK_ID')\n",
    "sim_id = 100\n",
    "np.random.seed(int(sim_id))\n",
    "n_next = int(200)\n",
    "stopping_times = np.zeros(n_reps) # container for stopping times in each simulation\n",
    "run_times = np.zeros(n_reps) # container for run times in each simulation\n",
    "alpha = 0.05 # risk limit\n",
    "n_max = 1603908 # maximum size of sample, at which point the simulation will terminate\n",
    "results = []\n",
    "\n",
    "#bets = [\"universal-portfolio\", \"cobra\"]\n",
    "bets = [\"universal-portfolio\"]\n",
    "\n",
    "for bet in bets:\n",
    "    #derive kelly-optimal bet one time by applying numerical optimization to entire population\n",
    "    if bet == \"alpha\":\n",
    "        # alpha (predictable bernoulli) get shrunk towards the true mean of the population\n",
    "        bets_dict[\"alpha\"] = lambda x, eta: Bets.predictable_bernoulli(x, eta, c = 0.99, mu_0 = np.mean(reported_assorter_pop))\n",
    "    if bet == \"ap-kelly-optimal\":\n",
    "        ko_bet = Bets.kelly_optimal(reported_assorter_pop, eta_0)\n",
    "    if bet == \"oracle-kelly-optimal\":\n",
    "        ko_bet = Bets.kelly_optimal(reported_assorter_pop, eta_0)\n",
    "    if bet == \"cobra\":\n",
    "        bets_dict[\"cobra\"] = lambda x, eta: Bets.cobra(x, eta, A_c = realized_A_c_global)\n",
    "    if bet == \"universal-portfolio\":\n",
    "        # this does not actually compute the universal portfolio bet\n",
    "        # it computes a discrete mixture wealth strategy that approximates the wealth under the universal universal_portfolio\n",
    "        # it seems to be both faster and more numerically stable than computing the actual universal portfolio\n",
    "        # see Cover 1991, Lemma 2.5 (https://isl.stanford.edu/~cover/papers/paper93.pdf)\n",
    "        bets_dict[\"universal-portfolio\"] = [(lambda x, eta, c=b: Bets.fixed(x, eta, c=c)) for b in np.linspace(0.05, 1/eta_0-0.05, 100)]\n",
    "    \n",
    "    # run replicate simulations\n",
    "    for r in rep_grid:\n",
    "        # containers for expanding samples\n",
    "        selected = np.array([], dtype = np.int32) # the index of samples that have been selected\n",
    "        remaining = np.arange(N) # the index of values remaining the population\n",
    "        done = False\n",
    "        start_time = time.time()\n",
    "        while not done:\n",
    "            selected = np.append(selected, np.random.choice(remaining, size = n_next, replace = False))\n",
    "            remaining = np.setdiff1d(remaining, selected)\n",
    "            X = reported_assorter_pop[selected]\n",
    "            # TSMs are computed for sampling WOR\n",
    "            if bet in [\"oracle-kelly-optimal\", \"ap-kelly-optimal\"]:\n",
    "                m = mart(X, eta = eta_0, lam = ko_bet[0:len(X)], N = N, log = True)\n",
    "            else:\n",
    "                m = mart(X, eta = eta_0, lam_func = bets_dict[bet], N = N, log = True)\n",
    "            if any(m > -np.log(alpha)) or (len(X) >= n_max):\n",
    "                done = True\n",
    "        stopping_time = np.where(any(m > -np.log(alpha)), np.argmax(m > -np.log(alpha)), n_max) # where the TSM crosses 1/alpha, or else the population size\n",
    "        run_time = time.time() - start_time\n",
    "        data_dict = {\n",
    "            \"realized_A_c_global\": realized_A_c_global,\n",
    "            \"rep\":r,\n",
    "            \"bet\":str(bet),\n",
    "            \"sample_size\": float(stopping_time),\n",
    "            \"run_time\":float(run_time)}\n",
    "        results.append(data_dict)"
   ]
  },
  {
   "cell_type": "code",
   "execution_count": 125,
   "id": "881dc59f-ed55-49be-bcc3-b9de912deeec",
   "metadata": {},
   "outputs": [],
   "source": [
    "results = pd.DataFrame(results)"
   ]
  },
  {
   "cell_type": "code",
   "execution_count": 126,
   "id": "6aa1ab5b-16cb-4bf2-81b2-67614aea95b0",
   "metadata": {},
   "outputs": [
    {
     "data": {
      "text/html": [
       "<div>\n",
       "<style scoped>\n",
       "    .dataframe tbody tr th:only-of-type {\n",
       "        vertical-align: middle;\n",
       "    }\n",
       "\n",
       "    .dataframe tbody tr th {\n",
       "        vertical-align: top;\n",
       "    }\n",
       "\n",
       "    .dataframe thead th {\n",
       "        text-align: right;\n",
       "    }\n",
       "</style>\n",
       "<table border=\"1\" class=\"dataframe\">\n",
       "  <thead>\n",
       "    <tr style=\"text-align: right;\">\n",
       "      <th></th>\n",
       "    </tr>\n",
       "  </thead>\n",
       "  <tbody>\n",
       "  </tbody>\n",
       "</table>\n",
       "</div>"
      ],
      "text/plain": [
       "Empty DataFrame\n",
       "Columns: []\n",
       "Index: []"
      ]
     },
     "execution_count": 126,
     "metadata": {},
     "output_type": "execute_result"
    }
   ],
   "source": [
    "results"
   ]
  },
  {
   "cell_type": "code",
   "execution_count": 95,
   "id": "032613dd-efdc-4ff9-9353-65bbe46db6db",
   "metadata": {},
   "outputs": [
    {
     "data": {
      "text/html": [
       "<div>\n",
       "<style scoped>\n",
       "    .dataframe tbody tr th:only-of-type {\n",
       "        vertical-align: middle;\n",
       "    }\n",
       "\n",
       "    .dataframe tbody tr th {\n",
       "        vertical-align: top;\n",
       "    }\n",
       "\n",
       "    .dataframe thead th {\n",
       "        text-align: right;\n",
       "    }\n",
       "</style>\n",
       "<table border=\"1\" class=\"dataframe\">\n",
       "  <thead>\n",
       "    <tr style=\"text-align: right;\">\n",
       "      <th></th>\n",
       "      <th>sample_size</th>\n",
       "      <th>run_time</th>\n",
       "    </tr>\n",
       "    <tr>\n",
       "      <th>bet</th>\n",
       "      <th></th>\n",
       "      <th></th>\n",
       "    </tr>\n",
       "  </thead>\n",
       "  <tbody>\n",
       "    <tr>\n",
       "      <th>cobra</th>\n",
       "      <td>1374791.00</td>\n",
       "      <td>872.716878</td>\n",
       "    </tr>\n",
       "    <tr>\n",
       "      <th>universal-portfolio</th>\n",
       "      <td>3045.36</td>\n",
       "      <td>1.881743</td>\n",
       "    </tr>\n",
       "  </tbody>\n",
       "</table>\n",
       "</div>"
      ],
      "text/plain": [
       "                     sample_size    run_time\n",
       "bet                                         \n",
       "cobra                 1374791.00  872.716878\n",
       "universal-portfolio      3045.36    1.881743"
      ]
     },
     "execution_count": 95,
     "metadata": {},
     "output_type": "execute_result"
    }
   ],
   "source": [
    "results = pd.DataFrame(results)\n",
    "results.groupby(\"bet\")[[\"sample_size\", \"run_time\"]].mean() # Get average sample size"
   ]
  },
  {
   "cell_type": "code",
   "execution_count": 96,
   "id": "be80b1be-dce6-421f-a44d-9144fac3d96c",
   "metadata": {},
   "outputs": [
    {
     "data": {
      "text/html": [
       "<div>\n",
       "<style scoped>\n",
       "    .dataframe tbody tr th:only-of-type {\n",
       "        vertical-align: middle;\n",
       "    }\n",
       "\n",
       "    .dataframe tbody tr th {\n",
       "        vertical-align: top;\n",
       "    }\n",
       "\n",
       "    .dataframe thead th {\n",
       "        text-align: right;\n",
       "    }\n",
       "</style>\n",
       "<table border=\"1\" class=\"dataframe\">\n",
       "  <thead>\n",
       "    <tr style=\"text-align: right;\">\n",
       "      <th></th>\n",
       "      <th>sample_size</th>\n",
       "      <th>run_time</th>\n",
       "    </tr>\n",
       "    <tr>\n",
       "      <th>bet</th>\n",
       "      <th></th>\n",
       "      <th></th>\n",
       "    </tr>\n",
       "  </thead>\n",
       "  <tbody>\n",
       "    <tr>\n",
       "      <th>cobra</th>\n",
       "      <td>1603908.0</td>\n",
       "      <td>1023.313586</td>\n",
       "    </tr>\n",
       "    <tr>\n",
       "      <th>universal-portfolio</th>\n",
       "      <td>7037.3</td>\n",
       "      <td>4.290379</td>\n",
       "    </tr>\n",
       "  </tbody>\n",
       "</table>\n",
       "</div>"
      ],
      "text/plain": [
       "                     sample_size     run_time\n",
       "bet                                          \n",
       "cobra                  1603908.0  1023.313586\n",
       "universal-portfolio       7037.3     4.290379"
      ]
     },
     "execution_count": 96,
     "metadata": {},
     "output_type": "execute_result"
    }
   ],
   "source": [
    "results.groupby(\"bet\")[[\"sample_size\", \"run_time\"]].quantile(0.9) # Get 90th percentile sample size"
   ]
  },
  {
   "cell_type": "code",
   "execution_count": 39,
   "id": "8f973f12-7189-4ba6-a985-625369fc0eaf",
   "metadata": {},
   "outputs": [],
   "source": [
    "# tally pool (batch) means for each contest as numpy array\n",
    "tally_pool_means = pd.DataFrame(np.zeros((len(pools), len(contests['18'].assertions)))) # set dimensions and make pandas df\n",
    "tally_pool_means.columns = contests['18'].assertions # set column names to names of assertions\n",
    "tally_pool_means.index = pools\n",
    "\n",
    "\n",
    "for n, a in contests['18'].assertions.items():\n",
    "    for pool in pools:\n",
    "        pm = a.assorter.tally_pool_means[pool]\n",
    "        tally_pool_means.loc[pool,n] = pm"
   ]
  },
  {
   "cell_type": "code",
   "execution_count": 40,
   "id": "7935ea0d-efcb-482e-911d-01befbb86912",
   "metadata": {},
   "outputs": [
    {
     "data": {
      "text/html": [
       "<div>\n",
       "<style scoped>\n",
       "    .dataframe tbody tr th:only-of-type {\n",
       "        vertical-align: middle;\n",
       "    }\n",
       "\n",
       "    .dataframe tbody tr th {\n",
       "        vertical-align: top;\n",
       "    }\n",
       "\n",
       "    .dataframe thead th {\n",
       "        text-align: right;\n",
       "    }\n",
       "</style>\n",
       "<table border=\"1\" class=\"dataframe\">\n",
       "  <thead>\n",
       "    <tr style=\"text-align: right;\">\n",
       "      <th></th>\n",
       "      <th>57 v 66</th>\n",
       "      <th>57 v 58</th>\n",
       "      <th>57 v 61</th>\n",
       "      <th>57 v 59</th>\n",
       "      <th>57 v 62</th>\n",
       "      <th>57 v 173</th>\n",
       "      <th>57 v 60</th>\n",
       "      <th>57 v 64</th>\n",
       "      <th>57 v 175</th>\n",
       "      <th>57 v 176</th>\n",
       "      <th>57 v 55</th>\n",
       "      <th>57 v 65</th>\n",
       "      <th>57 v 63</th>\n",
       "      <th>57 v 54</th>\n",
       "      <th>57 v 56</th>\n",
       "    </tr>\n",
       "  </thead>\n",
       "  <tbody>\n",
       "    <tr>\n",
       "      <th>31-193</th>\n",
       "      <td>0.495902</td>\n",
       "      <td>0.520492</td>\n",
       "      <td>0.508197</td>\n",
       "      <td>0.516393</td>\n",
       "      <td>0.446721</td>\n",
       "      <td>0.553279</td>\n",
       "      <td>0.520492</td>\n",
       "      <td>0.495902</td>\n",
       "      <td>0.553279</td>\n",
       "      <td>0.553279</td>\n",
       "      <td>0.504098</td>\n",
       "      <td>0.516393</td>\n",
       "      <td>0.508197</td>\n",
       "      <td>0.512295</td>\n",
       "      <td>0.500000</td>\n",
       "    </tr>\n",
       "    <tr>\n",
       "      <th>26-37</th>\n",
       "      <td>0.700000</td>\n",
       "      <td>0.700000</td>\n",
       "      <td>0.700000</td>\n",
       "      <td>0.700000</td>\n",
       "      <td>0.400000</td>\n",
       "      <td>0.700000</td>\n",
       "      <td>0.700000</td>\n",
       "      <td>0.700000</td>\n",
       "      <td>0.700000</td>\n",
       "      <td>0.700000</td>\n",
       "      <td>0.600000</td>\n",
       "      <td>0.700000</td>\n",
       "      <td>0.700000</td>\n",
       "      <td>0.700000</td>\n",
       "      <td>0.700000</td>\n",
       "    </tr>\n",
       "    <tr>\n",
       "      <th>24-55</th>\n",
       "      <td>0.625000</td>\n",
       "      <td>0.625000</td>\n",
       "      <td>0.625000</td>\n",
       "      <td>0.625000</td>\n",
       "      <td>0.500000</td>\n",
       "      <td>0.625000</td>\n",
       "      <td>0.625000</td>\n",
       "      <td>0.625000</td>\n",
       "      <td>0.625000</td>\n",
       "      <td>0.625000</td>\n",
       "      <td>0.500000</td>\n",
       "      <td>0.625000</td>\n",
       "      <td>0.625000</td>\n",
       "      <td>0.625000</td>\n",
       "      <td>0.625000</td>\n",
       "    </tr>\n",
       "    <tr>\n",
       "      <th>39-118</th>\n",
       "      <td>0.541667</td>\n",
       "      <td>0.583333</td>\n",
       "      <td>0.500000</td>\n",
       "      <td>0.583333</td>\n",
       "      <td>0.458333</td>\n",
       "      <td>0.583333</td>\n",
       "      <td>0.541667</td>\n",
       "      <td>0.500000</td>\n",
       "      <td>0.583333</td>\n",
       "      <td>0.583333</td>\n",
       "      <td>0.541667</td>\n",
       "      <td>0.583333</td>\n",
       "      <td>0.541667</td>\n",
       "      <td>0.541667</td>\n",
       "      <td>0.541667</td>\n",
       "    </tr>\n",
       "    <tr>\n",
       "      <th>43-145</th>\n",
       "      <td>0.625000</td>\n",
       "      <td>0.625000</td>\n",
       "      <td>0.500000</td>\n",
       "      <td>0.625000</td>\n",
       "      <td>0.500000</td>\n",
       "      <td>0.625000</td>\n",
       "      <td>0.625000</td>\n",
       "      <td>0.625000</td>\n",
       "      <td>0.625000</td>\n",
       "      <td>0.625000</td>\n",
       "      <td>0.500000</td>\n",
       "      <td>0.625000</td>\n",
       "      <td>0.625000</td>\n",
       "      <td>0.625000</td>\n",
       "      <td>0.625000</td>\n",
       "    </tr>\n",
       "    <tr>\n",
       "      <th>...</th>\n",
       "      <td>...</td>\n",
       "      <td>...</td>\n",
       "      <td>...</td>\n",
       "      <td>...</td>\n",
       "      <td>...</td>\n",
       "      <td>...</td>\n",
       "      <td>...</td>\n",
       "      <td>...</td>\n",
       "      <td>...</td>\n",
       "      <td>...</td>\n",
       "      <td>...</td>\n",
       "      <td>...</td>\n",
       "      <td>...</td>\n",
       "      <td>...</td>\n",
       "      <td>...</td>\n",
       "    </tr>\n",
       "    <tr>\n",
       "      <th>42-78</th>\n",
       "      <td>0.625000</td>\n",
       "      <td>0.625000</td>\n",
       "      <td>0.625000</td>\n",
       "      <td>0.625000</td>\n",
       "      <td>0.625000</td>\n",
       "      <td>0.625000</td>\n",
       "      <td>0.625000</td>\n",
       "      <td>0.625000</td>\n",
       "      <td>0.625000</td>\n",
       "      <td>0.625000</td>\n",
       "      <td>0.500000</td>\n",
       "      <td>0.625000</td>\n",
       "      <td>0.625000</td>\n",
       "      <td>0.625000</td>\n",
       "      <td>0.625000</td>\n",
       "    </tr>\n",
       "    <tr>\n",
       "      <th>578-0</th>\n",
       "      <td>0.528409</td>\n",
       "      <td>0.522727</td>\n",
       "      <td>0.474432</td>\n",
       "      <td>0.528409</td>\n",
       "      <td>0.500000</td>\n",
       "      <td>0.562500</td>\n",
       "      <td>0.539773</td>\n",
       "      <td>0.502841</td>\n",
       "      <td>0.562500</td>\n",
       "      <td>0.562500</td>\n",
       "      <td>0.497159</td>\n",
       "      <td>0.528409</td>\n",
       "      <td>0.525568</td>\n",
       "      <td>0.517045</td>\n",
       "      <td>0.525568</td>\n",
       "    </tr>\n",
       "    <tr>\n",
       "      <th>25-179</th>\n",
       "      <td>0.541667</td>\n",
       "      <td>0.541667</td>\n",
       "      <td>0.541667</td>\n",
       "      <td>0.541667</td>\n",
       "      <td>0.458333</td>\n",
       "      <td>0.566667</td>\n",
       "      <td>0.541667</td>\n",
       "      <td>0.541667</td>\n",
       "      <td>0.566667</td>\n",
       "      <td>0.566667</td>\n",
       "      <td>0.533333</td>\n",
       "      <td>0.550000</td>\n",
       "      <td>0.558333</td>\n",
       "      <td>0.533333</td>\n",
       "      <td>0.550000</td>\n",
       "    </tr>\n",
       "    <tr>\n",
       "      <th>43-71</th>\n",
       "      <td>0.562500</td>\n",
       "      <td>0.562500</td>\n",
       "      <td>0.437500</td>\n",
       "      <td>0.562500</td>\n",
       "      <td>0.500000</td>\n",
       "      <td>0.562500</td>\n",
       "      <td>0.562500</td>\n",
       "      <td>0.500000</td>\n",
       "      <td>0.562500</td>\n",
       "      <td>0.562500</td>\n",
       "      <td>0.500000</td>\n",
       "      <td>0.562500</td>\n",
       "      <td>0.562500</td>\n",
       "      <td>0.562500</td>\n",
       "      <td>0.500000</td>\n",
       "    </tr>\n",
       "    <tr>\n",
       "      <th>34-69</th>\n",
       "      <td>0.500000</td>\n",
       "      <td>0.500000</td>\n",
       "      <td>0.500000</td>\n",
       "      <td>0.500000</td>\n",
       "      <td>0.500000</td>\n",
       "      <td>0.500000</td>\n",
       "      <td>0.500000</td>\n",
       "      <td>0.500000</td>\n",
       "      <td>0.500000</td>\n",
       "      <td>0.500000</td>\n",
       "      <td>0.500000</td>\n",
       "      <td>0.500000</td>\n",
       "      <td>0.500000</td>\n",
       "      <td>0.500000</td>\n",
       "      <td>0.500000</td>\n",
       "    </tr>\n",
       "  </tbody>\n",
       "</table>\n",
       "<p>4223 rows × 15 columns</p>\n",
       "</div>"
      ],
      "text/plain": [
       "         57 v 66   57 v 58   57 v 61   57 v 59   57 v 62  57 v 173   57 v 60  \\\n",
       "31-193  0.495902  0.520492  0.508197  0.516393  0.446721  0.553279  0.520492   \n",
       "26-37   0.700000  0.700000  0.700000  0.700000  0.400000  0.700000  0.700000   \n",
       "24-55   0.625000  0.625000  0.625000  0.625000  0.500000  0.625000  0.625000   \n",
       "39-118  0.541667  0.583333  0.500000  0.583333  0.458333  0.583333  0.541667   \n",
       "43-145  0.625000  0.625000  0.500000  0.625000  0.500000  0.625000  0.625000   \n",
       "...          ...       ...       ...       ...       ...       ...       ...   \n",
       "42-78   0.625000  0.625000  0.625000  0.625000  0.625000  0.625000  0.625000   \n",
       "578-0   0.528409  0.522727  0.474432  0.528409  0.500000  0.562500  0.539773   \n",
       "25-179  0.541667  0.541667  0.541667  0.541667  0.458333  0.566667  0.541667   \n",
       "43-71   0.562500  0.562500  0.437500  0.562500  0.500000  0.562500  0.562500   \n",
       "34-69   0.500000  0.500000  0.500000  0.500000  0.500000  0.500000  0.500000   \n",
       "\n",
       "         57 v 64  57 v 175  57 v 176   57 v 55   57 v 65   57 v 63   57 v 54  \\\n",
       "31-193  0.495902  0.553279  0.553279  0.504098  0.516393  0.508197  0.512295   \n",
       "26-37   0.700000  0.700000  0.700000  0.600000  0.700000  0.700000  0.700000   \n",
       "24-55   0.625000  0.625000  0.625000  0.500000  0.625000  0.625000  0.625000   \n",
       "39-118  0.500000  0.583333  0.583333  0.541667  0.583333  0.541667  0.541667   \n",
       "43-145  0.625000  0.625000  0.625000  0.500000  0.625000  0.625000  0.625000   \n",
       "...          ...       ...       ...       ...       ...       ...       ...   \n",
       "42-78   0.625000  0.625000  0.625000  0.500000  0.625000  0.625000  0.625000   \n",
       "578-0   0.502841  0.562500  0.562500  0.497159  0.528409  0.525568  0.517045   \n",
       "25-179  0.541667  0.566667  0.566667  0.533333  0.550000  0.558333  0.533333   \n",
       "43-71   0.500000  0.562500  0.562500  0.500000  0.562500  0.562500  0.562500   \n",
       "34-69   0.500000  0.500000  0.500000  0.500000  0.500000  0.500000  0.500000   \n",
       "\n",
       "         57 v 56  \n",
       "31-193  0.500000  \n",
       "26-37   0.700000  \n",
       "24-55   0.625000  \n",
       "39-118  0.541667  \n",
       "43-145  0.625000  \n",
       "...          ...  \n",
       "42-78   0.625000  \n",
       "578-0   0.525568  \n",
       "25-179  0.550000  \n",
       "43-71   0.500000  \n",
       "34-69   0.500000  \n",
       "\n",
       "[4223 rows x 15 columns]"
      ]
     },
     "execution_count": 40,
     "metadata": {},
     "output_type": "execute_result"
    }
   ],
   "source": [
    "tally_pool_means"
   ]
  },
  {
   "cell_type": "code",
   "execution_count": 41,
   "id": "903f14e7-6e8f-44c2-9988-22265b5e8046",
   "metadata": {},
   "outputs": [
    {
     "name": "stdout",
     "output_type": "stream",
     "text": [
      "minimum assorter margin: 0.0239447637236212\n",
      "margins in contest 18:\n",
      "\tassertion 57 v 66: 0.33161145740471243\n",
      "\tassertion 57 v 58: 0.35717708660002323\n",
      "\tassertion 57 v 61: 0.11423049411731534\n",
      "\tassertion 57 v 59: 0.36546992766006925\n",
      "\tassertion 57 v 62: 0.0239447637236212\n",
      "\tassertion 57 v 173: 0.4528240057223598\n",
      "\tassertion 57 v 60: 0.3922265406150127\n",
      "\tassertion 57 v 64: 0.2451611880239184\n",
      "\tassertion 57 v 175: 0.4528574801179708\n",
      "\tassertion 57 v 176: 0.4528592419282662\n",
      "\tassertion 57 v 55: 0.09200525724192121\n",
      "\tassertion 57 v 65: 0.39745735538180194\n",
      "\tassertion 57 v 63: 0.3627796433391237\n",
      "\tassertion 57 v 54: 0.3769992142326082\n",
      "\tassertion 57 v 56: 0.3583751176008372\n"
     ]
    }
   ],
   "source": [
    "# reported assorter margins for each assertion, and the minimum margin, which drives the sample sizes\n",
    "min_margin = Assertion.set_all_margins_from_cvrs(audit=audit, contests=contests, cvr_list=cvr_list)\n",
    "\n",
    "print(f'minimum assorter margin: {min_margin}')\n",
    "Contest.print_margins(contests)"
   ]
  },
  {
   "cell_type": "code",
   "execution_count": 88,
   "id": "e030eeec-3bf5-4c29-a3b5-c3785b85dc9f",
   "metadata": {},
   "outputs": [
    {
     "data": {
      "text/plain": [
       "(array([1.40e+01, 0.00e+00, 0.00e+00, 0.00e+00, 0.00e+00, 2.00e+00,\n",
       "        0.00e+00, 1.10e+01, 1.00e+00, 1.00e+00, 1.70e+01, 3.25e+02,\n",
       "        6.20e+01, 3.61e+02, 5.52e+02, 2.13e+03, 2.55e+02, 3.40e+01,\n",
       "        2.02e+02, 0.00e+00, 1.10e+01, 0.00e+00, 8.00e+00, 0.00e+00,\n",
       "        0.00e+00, 0.00e+00, 0.00e+00, 0.00e+00, 0.00e+00, 9.00e+00]),\n",
       " array([0.        , 0.03333333, 0.06666667, 0.1       , 0.13333333,\n",
       "        0.16666667, 0.2       , 0.23333333, 0.26666667, 0.3       ,\n",
       "        0.33333333, 0.36666667, 0.4       , 0.43333333, 0.46666667,\n",
       "        0.5       , 0.53333333, 0.56666667, 0.6       , 0.63333333,\n",
       "        0.66666667, 0.7       , 0.73333333, 0.76666667, 0.8       ,\n",
       "        0.83333333, 0.86666667, 0.9       , 0.93333333, 0.96666667,\n",
       "        1.        ]),\n",
       " <BarContainer object of 30 artists>)"
      ]
     },
     "execution_count": 88,
     "metadata": {},
     "output_type": "execute_result"
    },
    {
     "data": {
      "image/png": "[encoded data removed]",
      "text/plain": [
       "<Figure size 640x480 with 1 Axes>"
      ]
     },
     "metadata": {},
     "output_type": "display_data"
    }
   ],
   "source": [
    "plt.hist(tally_pool_means['57 v 62'], bins = 30)"
   ]
  },
  {
   "cell_type": "code",
   "execution_count": 73,
   "id": "6560d227-a63f-495f-b645-e8d946cc313d",
   "metadata": {},
   "outputs": [
    {
     "data": {
      "text/plain": [
       "1387622"
      ]
     },
     "execution_count": 73,
     "metadata": {},
     "output_type": "execute_result"
    }
   ],
   "source": [
    "# CVR value: 1 / (2 - v_global)\n",
    "sum([1 if c.pool == False else 0 for c in cvr_list]) # Vote by mail"
   ]
  },
  {
   "cell_type": "code",
   "execution_count": 74,
   "id": "98f09d40-1348-475b-82d1-c0587119ed17",
   "metadata": {},
   "outputs": [
    {
     "data": {
      "text/plain": [
       "216286"
      ]
     },
     "execution_count": 74,
     "metadata": {},
     "output_type": "execute_result"
    }
   ],
   "source": [
    "sum([1 if c.pool == True else 0 for c in cvr_list]) # Precinct"
   ]
  },
  {
   "cell_type": "code",
   "execution_count": 75,
   "id": "d0855708-e3ef-4713-b850-ec179ab55930",
   "metadata": {},
   "outputs": [],
   "source": [
    "# Get number of CVRs in each precinct\n",
    "precinct_dict = {}\n",
    "\n",
    "for c in cvr_list:\n",
    "    if c.pool == True:\n",
    "        if c.tally_pool in precinct_dict:\n",
    "            precinct_dict[c.tally_pool] += 1\n",
    "        else:\n",
    "            precinct_dict[c.tally_pool] = 1"
   ]
  },
  {
   "cell_type": "code",
   "execution_count": 76,
   "id": "729917c7-bb4c-4d8e-aab8-e78e41f4f42c",
   "metadata": {},
   "outputs": [
    {
     "data": {
      "text/plain": [
       "216286"
      ]
     },
     "execution_count": 76,
     "metadata": {},
     "output_type": "execute_result"
    }
   ],
   "source": [
    "sum(precinct_dict.values()) # Check that sums to precinct CVR count"
   ]
  },
  {
   "cell_type": "code",
   "execution_count": 77,
   "id": "197f3b46-b78f-4fcd-9cef-1a2890806913",
   "metadata": {},
   "outputs": [
    {
     "data": {
      "text/plain": [
       "4223"
      ]
     },
     "execution_count": 77,
     "metadata": {},
     "output_type": "execute_result"
    }
   ],
   "source": [
    "len(precinct_dict.keys())"
   ]
  },
  {
   "cell_type": "code",
   "execution_count": 78,
   "id": "cad7660b-0fe6-4bfc-88ce-f8b96ae6e08d",
   "metadata": {},
   "outputs": [],
   "source": [
    "precinct_df = pd.DataFrame(list(precinct_dict.items()), columns=['Precinct ID', 'Total Votes'])"
   ]
  },
  {
   "cell_type": "code",
   "execution_count": 46,
   "id": "d62429fc-0acd-4984-a344-5651fada57a0",
   "metadata": {},
   "outputs": [],
   "source": [
    "#precinct_df.to_csv(\"~/Downloads/precinct_df.csv\")"
   ]
  },
  {
   "cell_type": "code",
   "execution_count": 79,
   "id": "b100351a-f709-499f-916f-785ceace4d82",
   "metadata": {},
   "outputs": [
    {
     "data": {
      "text/html": [
       "<div>\n",
       "<style scoped>\n",
       "    .dataframe tbody tr th:only-of-type {\n",
       "        vertical-align: middle;\n",
       "    }\n",
       "\n",
       "    .dataframe tbody tr th {\n",
       "        vertical-align: top;\n",
       "    }\n",
       "\n",
       "    .dataframe thead th {\n",
       "        text-align: right;\n",
       "    }\n",
       "</style>\n",
       "<table border=\"1\" class=\"dataframe\">\n",
       "  <thead>\n",
       "    <tr style=\"text-align: right;\">\n",
       "      <th></th>\n",
       "      <th>Precinct ID</th>\n",
       "      <th>Number</th>\n",
       "    </tr>\n",
       "  </thead>\n",
       "  <tbody>\n",
       "    <tr>\n",
       "      <th>0</th>\n",
       "      <td>39-190</td>\n",
       "      <td>4</td>\n",
       "    </tr>\n",
       "    <tr>\n",
       "      <th>1</th>\n",
       "      <td>36-15</td>\n",
       "      <td>4</td>\n",
       "    </tr>\n",
       "    <tr>\n",
       "      <th>2</th>\n",
       "      <td>27-535</td>\n",
       "      <td>4</td>\n",
       "    </tr>\n",
       "    <tr>\n",
       "      <th>3</th>\n",
       "      <td>43-170</td>\n",
       "      <td>8</td>\n",
       "    </tr>\n",
       "    <tr>\n",
       "      <th>4</th>\n",
       "      <td>27-448</td>\n",
       "      <td>20</td>\n",
       "    </tr>\n",
       "    <tr>\n",
       "      <th>...</th>\n",
       "      <td>...</td>\n",
       "      <td>...</td>\n",
       "    </tr>\n",
       "    <tr>\n",
       "      <th>4218</th>\n",
       "      <td>27-157</td>\n",
       "      <td>4</td>\n",
       "    </tr>\n",
       "    <tr>\n",
       "      <th>4219</th>\n",
       "      <td>24-151</td>\n",
       "      <td>4</td>\n",
       "    </tr>\n",
       "    <tr>\n",
       "      <th>4220</th>\n",
       "      <td>27-415</td>\n",
       "      <td>8</td>\n",
       "    </tr>\n",
       "    <tr>\n",
       "      <th>4221</th>\n",
       "      <td>615-0</td>\n",
       "      <td>124</td>\n",
       "    </tr>\n",
       "    <tr>\n",
       "      <th>4222</th>\n",
       "      <td>33-131</td>\n",
       "      <td>4</td>\n",
       "    </tr>\n",
       "  </tbody>\n",
       "</table>\n",
       "<p>4223 rows × 2 columns</p>\n",
       "</div>"
      ],
      "text/plain": [
       "     Precinct ID  Number\n",
       "0         39-190       4\n",
       "1          36-15       4\n",
       "2         27-535       4\n",
       "3         43-170       8\n",
       "4         27-448      20\n",
       "...          ...     ...\n",
       "4218      27-157       4\n",
       "4219      24-151       4\n",
       "4220      27-415       8\n",
       "4221       615-0     124\n",
       "4222      33-131       4\n",
       "\n",
       "[4223 rows x 2 columns]"
      ]
     },
     "execution_count": 79,
     "metadata": {},
     "output_type": "execute_result"
    }
   ],
   "source": []
  }
 ],
 "metadata": {
  "kernelspec": {
   "display_name": "Python 3 (ipykernel)",
   "language": "python",
   "name": "python3"
  },
  "language_info": {
   "codemirror_mode": {
    "name": "ipython",
    "version": 3
   },
   "file_extension": ".py",
   "mimetype": "text/x-python",
   "name": "python",
   "nbconvert_exporter": "python",
   "pygments_lexer": "ipython3",
   "version": "3.9.6"
  }
 },
 "nbformat": 4,
 "nbformat_minor": 5
}
