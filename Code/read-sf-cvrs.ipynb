{
 "cells": [
  {
   "cell_type": "code",
   "execution_count": 86,
   "id": "e022971b-163e-4e8a-ad26-95ece70ba6ed",
   "metadata": {},
   "outputs": [],
   "source": [
    "import math\n",
    "import json\n",
    "import warnings\n",
    "import numpy as np\n",
    "import pandas as pd\n",
    "import csv\n",
    "import copy\n",
    "import matplotlib.pyplot as plt\n",
    "\n",
    "import glob\n",
    "import os, sys\n",
    "\n",
    "from collections import OrderedDict\n",
    "from IPython.display import display, HTML\n",
    "\n",
    "from cryptorandom.cryptorandom import SHA256, int_from_hash\n",
    "from cryptorandom.sample import sample_by_index\n",
    "\n",
    "from shangrla.core.Audit import Audit, Assertion, Assorter, Contest, CVR, Stratum\n",
    "from shangrla.core.NonnegMean import NonnegMean\n",
    "from shangrla.formats.Dominion import Dominion"
   ]
  },
  {
   "cell_type": "markdown",
   "id": "e8942dd6-8385-487e-ada1-cf9744d954dd",
   "metadata": {},
   "source": [
    "### SF CVR download info\n",
    "Download the SF CVRs from https://sfelections.org/results/20241105w/detail.html \n",
    "\n",
    "Under the 'Final Report' tab click \"Cast Vote Record (Raw data) - JSON\" to download a zip file with all the CVRs. You will edit the file path for 'cvr_file' below based on where you put the CVR folder once downloaded."
   ]
  },
  {
   "cell_type": "code",
   "execution_count": 2,
   "id": "c8629671-f413-4fe5-a3e5-3339aad4d686",
   "metadata": {},
   "outputs": [],
   "source": [
    "audit = Audit.from_dict({\n",
    "         'seed':           12345678901234567890,\n",
    "         'sim_seed':       314159265,\n",
    "         'cvr_file':       './sf-cvrs-2024/CvrExport_*.json', # Edit with your file path\n",
    "         'manifest_file':  './sf-cvrs-2024/BallotTypeManifest.json',\n",
    "         'sample_file':    '...', # EDIT\n",
    "         'mvr_file':       '...', # EDIT\n",
    "         'log_file':       '...', # EDIT\n",
    "         'quantile':       0.8,\n",
    "         'error_rate_1':   0.001,\n",
    "         'error_rate_2':   0.0,\n",
    "         'reps':           200,\n",
    "         'strata':         {'stratum_1': {'max_cards':   1603908, \n",
    "                                          'use_style':   True,\n",
    "                                          'replacement': False\n",
    "                                         }\n",
    "                           }\n",
    "        })"
   ]
  },
  {
   "cell_type": "code",
   "execution_count": 3,
   "id": "02537f75-81c9-4496-a9dd-981f11e56ba2",
   "metadata": {},
   "outputs": [],
   "source": [
    "## Read the CVRs\n",
    "# Group = 1 is precinct, 2 is vote-by-mail\n",
    "# tally_pool will give precinct, pool will indicate if has CVRs\n",
    "cvr_list = []\n",
    "for _fname in glob.glob(audit.cvr_file):\n",
    "    cvr_list.extend(Dominion.read_cvrs(_fname, use_current=True, enforce_rules=True, include_groups=[1,2],\n",
    "                                      pool_groups=[1]))"
   ]
  },
  {
   "cell_type": "code",
   "execution_count": 8,
   "id": "62e5b24d-a5aa-4227-89b1-4b48a01f097b",
   "metadata": {},
   "outputs": [],
   "source": [
    "# Tabulate votes for each contest\n",
    "vote_tabulation = CVR.tabulate_votes(cvr_list)"
   ]
  },
  {
   "cell_type": "code",
   "execution_count": 9,
   "id": "a7370228-5d26-4f2e-b091-e4c8c59e20e9",
   "metadata": {},
   "outputs": [
    {
     "name": "stdout",
     "output_type": "stream",
     "text": [
      "defaultdict(<class 'int'>, {'55': 204829, '57': 257051, '62': 243460, '65': 31455, '64': 117898, '61': 192214, '54': 43067, '56': 53638, '58': 54318, '66': 68829, '59': 49611, '60': 34424, '63': 51138, '173': 29, '176': 9, '175': 10})\n",
      "1401980\n"
     ]
    }
   ],
   "source": [
    "# Mayor contest is contest ID 18\n",
    "print(vote_tabulation['18']) # votes for candidates\n",
    "print(sum(vote_tabulation['18'].values())) # total votes"
   ]
  },
  {
   "cell_type": "code",
   "execution_count": 11,
   "id": "54e5f5cb-43a7-491d-a20a-b5748e2a8b2b",
   "metadata": {},
   "outputs": [],
   "source": [
    "# Mayoral contest\n",
    "contest_dict = {\n",
    "               '18':{\n",
    "                   'name': 'MAYOR',\n",
    "                   'risk_limit':       0.05,\n",
    "                   'cards':            1401980,\n",
    "                   'choice_function':  Contest.SOCIAL_CHOICE_FUNCTION.PLURALITY,\n",
    "                   'n_winners':        1,\n",
    "                   'candidates':       ['54', '55', '56', '57', '58', '59', '60', '61', '62', '63', '64', '65', '66', '173', '175', '176'],\n",
    "                   'winner':           ['57'],\n",
    "                   'assertion_file':   None,\n",
    "                   'audit_type':       Audit.AUDIT_TYPE.ONEAUDIT,\n",
    "                   'test':             NonnegMean.alpha_mart,\n",
    "                   'estim':            NonnegMean.shrink_trunc,\n",
    "                   'test_kwargs':      {'d': 100, 'f': 0}\n",
    "                  }\n",
    "               }\n",
    "\n",
    "contests = Contest.from_dict_of_dicts(contest_dict)"
   ]
  },
  {
   "cell_type": "code",
   "execution_count": 12,
   "id": "283dd4aa-690a-4b89-8c28-3de1a2fd6837",
   "metadata": {},
   "outputs": [
    {
     "data": {
      "text/plain": [
       "True"
      ]
     },
     "execution_count": 12,
     "metadata": {},
     "output_type": "execute_result"
    }
   ],
   "source": [
    "# construct the dict of dicts of assertions for each contest\n",
    "Assertion.make_all_assertions(contests)"
   ]
  },
  {
   "cell_type": "code",
   "execution_count": 13,
   "id": "09e0c214-bb29-4450-af7f-be67ee9d51af",
   "metadata": {},
   "outputs": [
    {
     "name": "stdout",
     "output_type": "stream",
     "text": [
      "cvrs: 1603908 unique IDs: 1603908\n"
     ]
    }
   ],
   "source": [
    "# check that the CVR IDs are unique\n",
    "unique_ids = len(set(c.id for c in cvr_list))\n",
    "print(f'cvrs: {len(cvr_list)} unique IDs: {unique_ids}')\n",
    "assert unique_ids == len(cvr_list), 'CVR IDs are not unique'"
   ]
  },
  {
   "cell_type": "code",
   "execution_count": 22,
   "id": "2b170693-b9e6-49b6-a6ee-b986318dfb25",
   "metadata": {},
   "outputs": [
    {
     "data": {
      "text/plain": [
       "1603908"
      ]
     },
     "execution_count": 22,
     "metadata": {},
     "output_type": "execute_result"
    }
   ],
   "source": [
    "# ensure every CVR in each tally_pool has the same value of `pool`\n",
    "cvr_list = CVR.check_tally_pools(cvr_list)\n",
    "len(cvr_list)"
   ]
  },
  {
   "cell_type": "code",
   "execution_count": 14,
   "id": "74ba53c8-c806-4d65-9629-edbf0c55d801",
   "metadata": {},
   "outputs": [
    {
     "data": {
      "text/plain": [
       "4223"
      ]
     },
     "execution_count": 14,
     "metadata": {},
     "output_type": "execute_result"
    }
   ],
   "source": [
    "# find the set of tally_pools for which pool==True\n",
    "pools = set(c.tally_pool for c in cvr_list if c.pool)\n",
    "len(pools)"
   ]
  },
  {
   "cell_type": "code",
   "execution_count": 15,
   "id": "6f8254ea-7bab-4999-b891-f0913cbfafc1",
   "metadata": {},
   "outputs": [
    {
     "data": {
      "text/plain": [
       "True"
      ]
     },
     "execution_count": 15,
     "metadata": {},
     "output_type": "execute_result"
    }
   ],
   "source": [
    "# make dict of all contest IDs mentioned in each tally_pool of CVRs for which pool==True\n",
    "tally_pools = CVR.pool_contests(cvr_list)\n",
    "\n",
    "# ensure every CVR in each tally_pool for which pool==True has every contest in that tally_pool\n",
    "CVR.add_pool_contests(cvr_list, tally_pools)"
   ]
  },
  {
   "cell_type": "code",
   "execution_count": 16,
   "id": "b813f6a3-8150-4907-9e5d-856280786488",
   "metadata": {},
   "outputs": [],
   "source": [
    "# set pooled assorter means\n",
    "for con in contests.values():\n",
    "    for a in con.assertions.values():\n",
    "        a.assorter.set_tally_pool_means(cvr_list=cvr_list, tally_pools=tally_pools)"
   ]
  },
  {
   "cell_type": "code",
   "execution_count": 71,
   "id": "8f973f12-7189-4ba6-a985-625369fc0eaf",
   "metadata": {},
   "outputs": [],
   "source": [
    "# tally pool (batch) means for each contest as numpy array\n",
    "tally_pool_means = pd.DataFrame(np.zeros((len(pools), len(contests['18'].assertions)))) # set dimensions and make pandas df\n",
    "tally_pool_means.columns = contests['18'].assertions # set column names to names of assertions\n",
    "tally_pool_means.index = pools\n",
    "\n",
    "\n",
    "for n, a in contests['18'].assertions.items():\n",
    "    for pool in pools:\n",
    "        pm = a.assorter.tally_pool_means[pool]\n",
    "        tally_pool_means.loc[pool,n] = pm"
   ]
  },
  {
   "cell_type": "code",
   "execution_count": 72,
   "id": "7935ea0d-efcb-482e-911d-01befbb86912",
   "metadata": {},
   "outputs": [
    {
     "data": {
      "text/html": [
       "<div>\n",
       "<style scoped>\n",
       "    .dataframe tbody tr th:only-of-type {\n",
       "        vertical-align: middle;\n",
       "    }\n",
       "\n",
       "    .dataframe tbody tr th {\n",
       "        vertical-align: top;\n",
       "    }\n",
       "\n",
       "    .dataframe thead th {\n",
       "        text-align: right;\n",
       "    }\n",
       "</style>\n",
       "<table border=\"1\" class=\"dataframe\">\n",
       "  <thead>\n",
       "    <tr style=\"text-align: right;\">\n",
       "      <th></th>\n",
       "      <th>57 v 175</th>\n",
       "      <th>57 v 64</th>\n",
       "      <th>57 v 59</th>\n",
       "      <th>57 v 61</th>\n",
       "      <th>57 v 173</th>\n",
       "      <th>57 v 63</th>\n",
       "      <th>57 v 60</th>\n",
       "      <th>57 v 62</th>\n",
       "      <th>57 v 56</th>\n",
       "      <th>57 v 66</th>\n",
       "      <th>57 v 65</th>\n",
       "      <th>57 v 55</th>\n",
       "      <th>57 v 58</th>\n",
       "      <th>57 v 176</th>\n",
       "      <th>57 v 54</th>\n",
       "    </tr>\n",
       "  </thead>\n",
       "  <tbody>\n",
       "    <tr>\n",
       "      <th>43-27</th>\n",
       "      <td>0.551948</td>\n",
       "      <td>0.512987</td>\n",
       "      <td>0.519481</td>\n",
       "      <td>0.487013</td>\n",
       "      <td>0.551948</td>\n",
       "      <td>0.519481</td>\n",
       "      <td>0.525974</td>\n",
       "      <td>0.454545</td>\n",
       "      <td>0.525974</td>\n",
       "      <td>0.525974</td>\n",
       "      <td>0.525974</td>\n",
       "      <td>0.500000</td>\n",
       "      <td>0.506494</td>\n",
       "      <td>0.551948</td>\n",
       "      <td>0.519481</td>\n",
       "    </tr>\n",
       "    <tr>\n",
       "      <th>27-476</th>\n",
       "      <td>0.500000</td>\n",
       "      <td>0.500000</td>\n",
       "      <td>0.500000</td>\n",
       "      <td>0.500000</td>\n",
       "      <td>0.500000</td>\n",
       "      <td>0.500000</td>\n",
       "      <td>0.500000</td>\n",
       "      <td>0.375000</td>\n",
       "      <td>0.500000</td>\n",
       "      <td>0.500000</td>\n",
       "      <td>0.500000</td>\n",
       "      <td>0.437500</td>\n",
       "      <td>0.500000</td>\n",
       "      <td>0.500000</td>\n",
       "      <td>0.500000</td>\n",
       "    </tr>\n",
       "    <tr>\n",
       "      <th>612-0</th>\n",
       "      <td>0.575235</td>\n",
       "      <td>0.543887</td>\n",
       "      <td>0.562696</td>\n",
       "      <td>0.529781</td>\n",
       "      <td>0.575235</td>\n",
       "      <td>0.559561</td>\n",
       "      <td>0.567398</td>\n",
       "      <td>0.484326</td>\n",
       "      <td>0.559561</td>\n",
       "      <td>0.553292</td>\n",
       "      <td>0.567398</td>\n",
       "      <td>0.504702</td>\n",
       "      <td>0.554859</td>\n",
       "      <td>0.575235</td>\n",
       "      <td>0.562696</td>\n",
       "    </tr>\n",
       "    <tr>\n",
       "      <th>27-510</th>\n",
       "      <td>0.562500</td>\n",
       "      <td>0.500000</td>\n",
       "      <td>0.562500</td>\n",
       "      <td>0.500000</td>\n",
       "      <td>0.562500</td>\n",
       "      <td>0.562500</td>\n",
       "      <td>0.562500</td>\n",
       "      <td>0.437500</td>\n",
       "      <td>0.562500</td>\n",
       "      <td>0.500000</td>\n",
       "      <td>0.562500</td>\n",
       "      <td>0.500000</td>\n",
       "      <td>0.562500</td>\n",
       "      <td>0.562500</td>\n",
       "      <td>0.562500</td>\n",
       "    </tr>\n",
       "    <tr>\n",
       "      <th>986-0</th>\n",
       "      <td>0.573034</td>\n",
       "      <td>0.535581</td>\n",
       "      <td>0.552434</td>\n",
       "      <td>0.522472</td>\n",
       "      <td>0.573034</td>\n",
       "      <td>0.554307</td>\n",
       "      <td>0.558052</td>\n",
       "      <td>0.513109</td>\n",
       "      <td>0.558052</td>\n",
       "      <td>0.541199</td>\n",
       "      <td>0.563670</td>\n",
       "      <td>0.509363</td>\n",
       "      <td>0.565543</td>\n",
       "      <td>0.573034</td>\n",
       "      <td>0.561798</td>\n",
       "    </tr>\n",
       "    <tr>\n",
       "      <th>...</th>\n",
       "      <td>...</td>\n",
       "      <td>...</td>\n",
       "      <td>...</td>\n",
       "      <td>...</td>\n",
       "      <td>...</td>\n",
       "      <td>...</td>\n",
       "      <td>...</td>\n",
       "      <td>...</td>\n",
       "      <td>...</td>\n",
       "      <td>...</td>\n",
       "      <td>...</td>\n",
       "      <td>...</td>\n",
       "      <td>...</td>\n",
       "      <td>...</td>\n",
       "      <td>...</td>\n",
       "    </tr>\n",
       "    <tr>\n",
       "      <th>43-96</th>\n",
       "      <td>0.550000</td>\n",
       "      <td>0.550000</td>\n",
       "      <td>0.550000</td>\n",
       "      <td>0.550000</td>\n",
       "      <td>0.550000</td>\n",
       "      <td>0.550000</td>\n",
       "      <td>0.550000</td>\n",
       "      <td>0.550000</td>\n",
       "      <td>0.550000</td>\n",
       "      <td>0.525000</td>\n",
       "      <td>0.550000</td>\n",
       "      <td>0.500000</td>\n",
       "      <td>0.550000</td>\n",
       "      <td>0.550000</td>\n",
       "      <td>0.550000</td>\n",
       "    </tr>\n",
       "    <tr>\n",
       "      <th>24-165</th>\n",
       "      <td>0.550000</td>\n",
       "      <td>0.500000</td>\n",
       "      <td>0.550000</td>\n",
       "      <td>0.475000</td>\n",
       "      <td>0.550000</td>\n",
       "      <td>0.475000</td>\n",
       "      <td>0.525000</td>\n",
       "      <td>0.525000</td>\n",
       "      <td>0.550000</td>\n",
       "      <td>0.550000</td>\n",
       "      <td>0.550000</td>\n",
       "      <td>0.500000</td>\n",
       "      <td>0.525000</td>\n",
       "      <td>0.525000</td>\n",
       "      <td>0.525000</td>\n",
       "    </tr>\n",
       "    <tr>\n",
       "      <th>36-335</th>\n",
       "      <td>NaN</td>\n",
       "      <td>NaN</td>\n",
       "      <td>NaN</td>\n",
       "      <td>NaN</td>\n",
       "      <td>NaN</td>\n",
       "      <td>NaN</td>\n",
       "      <td>NaN</td>\n",
       "      <td>NaN</td>\n",
       "      <td>NaN</td>\n",
       "      <td>NaN</td>\n",
       "      <td>NaN</td>\n",
       "      <td>NaN</td>\n",
       "      <td>NaN</td>\n",
       "      <td>NaN</td>\n",
       "      <td>NaN</td>\n",
       "    </tr>\n",
       "    <tr>\n",
       "      <th>28-90</th>\n",
       "      <td>0.500000</td>\n",
       "      <td>0.500000</td>\n",
       "      <td>0.500000</td>\n",
       "      <td>0.500000</td>\n",
       "      <td>0.500000</td>\n",
       "      <td>0.500000</td>\n",
       "      <td>0.500000</td>\n",
       "      <td>0.500000</td>\n",
       "      <td>0.500000</td>\n",
       "      <td>0.500000</td>\n",
       "      <td>0.500000</td>\n",
       "      <td>0.500000</td>\n",
       "      <td>0.500000</td>\n",
       "      <td>0.500000</td>\n",
       "      <td>0.500000</td>\n",
       "    </tr>\n",
       "    <tr>\n",
       "      <th>39-258</th>\n",
       "      <td>0.500000</td>\n",
       "      <td>0.500000</td>\n",
       "      <td>0.500000</td>\n",
       "      <td>0.437500</td>\n",
       "      <td>0.500000</td>\n",
       "      <td>0.500000</td>\n",
       "      <td>0.500000</td>\n",
       "      <td>0.500000</td>\n",
       "      <td>0.500000</td>\n",
       "      <td>0.500000</td>\n",
       "      <td>0.500000</td>\n",
       "      <td>0.500000</td>\n",
       "      <td>0.500000</td>\n",
       "      <td>0.500000</td>\n",
       "      <td>0.500000</td>\n",
       "    </tr>\n",
       "  </tbody>\n",
       "</table>\n",
       "<p>4223 rows × 15 columns</p>\n",
       "</div>"
      ],
      "text/plain": [
       "        57 v 175   57 v 64   57 v 59   57 v 61  57 v 173   57 v 63   57 v 60  \\\n",
       "43-27   0.551948  0.512987  0.519481  0.487013  0.551948  0.519481  0.525974   \n",
       "27-476  0.500000  0.500000  0.500000  0.500000  0.500000  0.500000  0.500000   \n",
       "612-0   0.575235  0.543887  0.562696  0.529781  0.575235  0.559561  0.567398   \n",
       "27-510  0.562500  0.500000  0.562500  0.500000  0.562500  0.562500  0.562500   \n",
       "986-0   0.573034  0.535581  0.552434  0.522472  0.573034  0.554307  0.558052   \n",
       "...          ...       ...       ...       ...       ...       ...       ...   \n",
       "43-96   0.550000  0.550000  0.550000  0.550000  0.550000  0.550000  0.550000   \n",
       "24-165  0.550000  0.500000  0.550000  0.475000  0.550000  0.475000  0.525000   \n",
       "36-335       NaN       NaN       NaN       NaN       NaN       NaN       NaN   \n",
       "28-90   0.500000  0.500000  0.500000  0.500000  0.500000  0.500000  0.500000   \n",
       "39-258  0.500000  0.500000  0.500000  0.437500  0.500000  0.500000  0.500000   \n",
       "\n",
       "         57 v 62   57 v 56   57 v 66   57 v 65   57 v 55   57 v 58  57 v 176  \\\n",
       "43-27   0.454545  0.525974  0.525974  0.525974  0.500000  0.506494  0.551948   \n",
       "27-476  0.375000  0.500000  0.500000  0.500000  0.437500  0.500000  0.500000   \n",
       "612-0   0.484326  0.559561  0.553292  0.567398  0.504702  0.554859  0.575235   \n",
       "27-510  0.437500  0.562500  0.500000  0.562500  0.500000  0.562500  0.562500   \n",
       "986-0   0.513109  0.558052  0.541199  0.563670  0.509363  0.565543  0.573034   \n",
       "...          ...       ...       ...       ...       ...       ...       ...   \n",
       "43-96   0.550000  0.550000  0.525000  0.550000  0.500000  0.550000  0.550000   \n",
       "24-165  0.525000  0.550000  0.550000  0.550000  0.500000  0.525000  0.525000   \n",
       "36-335       NaN       NaN       NaN       NaN       NaN       NaN       NaN   \n",
       "28-90   0.500000  0.500000  0.500000  0.500000  0.500000  0.500000  0.500000   \n",
       "39-258  0.500000  0.500000  0.500000  0.500000  0.500000  0.500000  0.500000   \n",
       "\n",
       "         57 v 54  \n",
       "43-27   0.519481  \n",
       "27-476  0.500000  \n",
       "612-0   0.562696  \n",
       "27-510  0.562500  \n",
       "986-0   0.561798  \n",
       "...          ...  \n",
       "43-96   0.550000  \n",
       "24-165  0.525000  \n",
       "36-335       NaN  \n",
       "28-90   0.500000  \n",
       "39-258  0.500000  \n",
       "\n",
       "[4223 rows x 15 columns]"
      ]
     },
     "execution_count": 72,
     "metadata": {},
     "output_type": "execute_result"
    }
   ],
   "source": [
    "tally_pool_means"
   ]
  },
  {
   "cell_type": "code",
   "execution_count": 80,
   "id": "903f14e7-6e8f-44c2-9988-22265b5e8046",
   "metadata": {},
   "outputs": [
    {
     "name": "stdout",
     "output_type": "stream",
     "text": [
      "minimum assorter margin: 0.0239447637236212\n",
      "margins in contest 18:\n",
      "\tassertion 57 v 175: 0.4528574801179708\n",
      "\tassertion 57 v 64: 0.2451611880239184\n",
      "\tassertion 57 v 59: 0.36546992766006925\n",
      "\tassertion 57 v 61: 0.11423049411731534\n",
      "\tassertion 57 v 173: 0.4528240057223598\n",
      "\tassertion 57 v 63: 0.3627796433391237\n",
      "\tassertion 57 v 60: 0.3922265406150127\n",
      "\tassertion 57 v 62: 0.0239447637236212\n",
      "\tassertion 57 v 56: 0.3583751176008372\n",
      "\tassertion 57 v 66: 0.33161145740471243\n",
      "\tassertion 57 v 65: 0.39745735538180194\n",
      "\tassertion 57 v 55: 0.09200525724192121\n",
      "\tassertion 57 v 58: 0.35717708660002323\n",
      "\tassertion 57 v 176: 0.4528592419282662\n",
      "\tassertion 57 v 54: 0.3769992142326082\n"
     ]
    }
   ],
   "source": [
    "# reported assorter margins for each assertion, and the minimum margin, which drives the sample sizes\n",
    "min_margin = Assertion.set_all_margins_from_cvrs(audit=audit, contests=contests, cvr_list=cvr_list)\n",
    "\n",
    "print(f'minimum assorter margin: {min_margin}')\n",
    "Contest.print_margins(contests)"
   ]
  },
  {
   "cell_type": "code",
   "execution_count": 88,
   "id": "e030eeec-3bf5-4c29-a3b5-c3785b85dc9f",
   "metadata": {},
   "outputs": [
    {
     "data": {
      "text/plain": [
       "(array([1.40e+01, 0.00e+00, 0.00e+00, 0.00e+00, 0.00e+00, 2.00e+00,\n",
       "        0.00e+00, 1.10e+01, 1.00e+00, 1.00e+00, 1.70e+01, 3.25e+02,\n",
       "        6.20e+01, 3.61e+02, 5.52e+02, 2.13e+03, 2.55e+02, 3.40e+01,\n",
       "        2.02e+02, 0.00e+00, 1.10e+01, 0.00e+00, 8.00e+00, 0.00e+00,\n",
       "        0.00e+00, 0.00e+00, 0.00e+00, 0.00e+00, 0.00e+00, 9.00e+00]),\n",
       " array([0.        , 0.03333333, 0.06666667, 0.1       , 0.13333333,\n",
       "        0.16666667, 0.2       , 0.23333333, 0.26666667, 0.3       ,\n",
       "        0.33333333, 0.36666667, 0.4       , 0.43333333, 0.46666667,\n",
       "        0.5       , 0.53333333, 0.56666667, 0.6       , 0.63333333,\n",
       "        0.66666667, 0.7       , 0.73333333, 0.76666667, 0.8       ,\n",
       "        0.83333333, 0.86666667, 0.9       , 0.93333333, 0.96666667,\n",
       "        1.        ]),\n",
       " <BarContainer object of 30 artists>)"
      ]
     },
     "execution_count": 88,
     "metadata": {},
     "output_type": "execute_result"
    },
    {
     "data": {
      "image/png": "[encoded data removed]",
      "text/plain": [
       "<Figure size 640x480 with 1 Axes>"
      ]
     },
     "metadata": {},
     "output_type": "display_data"
    }
   ],
   "source": [
    "plt.hist(tally_pool_means['57 v 62'], bins = 30)"
   ]
  },
  {
   "cell_type": "code",
   "execution_count": 73,
   "id": "6560d227-a63f-495f-b645-e8d946cc313d",
   "metadata": {},
   "outputs": [
    {
     "data": {
      "text/plain": [
       "1387622"
      ]
     },
     "execution_count": 73,
     "metadata": {},
     "output_type": "execute_result"
    }
   ],
   "source": [
    "# CVR value: 1 / (2 - v_global)\n",
    "sum([1 if c.pool == False else 0 for c in cvr_list]) # Vote by mail"
   ]
  },
  {
   "cell_type": "code",
   "execution_count": 74,
   "id": "98f09d40-1348-475b-82d1-c0587119ed17",
   "metadata": {},
   "outputs": [
    {
     "data": {
      "text/plain": [
       "216286"
      ]
     },
     "execution_count": 74,
     "metadata": {},
     "output_type": "execute_result"
    }
   ],
   "source": [
    "sum([1 if c.pool == True else 0 for c in cvr_list]) # Precinct"
   ]
  },
  {
   "cell_type": "code",
   "execution_count": 75,
   "id": "d0855708-e3ef-4713-b850-ec179ab55930",
   "metadata": {},
   "outputs": [],
   "source": [
    "# Get number of CVRs in each precinct\n",
    "precinct_dict = {}\n",
    "\n",
    "for c in cvr_list:\n",
    "    if c.pool == True:\n",
    "        if c.tally_pool in precinct_dict:\n",
    "            precinct_dict[c.tally_pool] += 1\n",
    "        else:\n",
    "            precinct_dict[c.tally_pool] = 1"
   ]
  },
  {
   "cell_type": "code",
   "execution_count": 76,
   "id": "729917c7-bb4c-4d8e-aab8-e78e41f4f42c",
   "metadata": {},
   "outputs": [
    {
     "data": {
      "text/plain": [
       "216286"
      ]
     },
     "execution_count": 76,
     "metadata": {},
     "output_type": "execute_result"
    }
   ],
   "source": [
    "sum(precinct_dict.values()) # Check that sums to precinct CVR count"
   ]
  },
  {
   "cell_type": "code",
   "execution_count": 77,
   "id": "197f3b46-b78f-4fcd-9cef-1a2890806913",
   "metadata": {},
   "outputs": [
    {
     "data": {
      "text/plain": [
       "4223"
      ]
     },
     "execution_count": 77,
     "metadata": {},
     "output_type": "execute_result"
    }
   ],
   "source": [
    "len(precinct_dict.keys())"
   ]
  },
  {
   "cell_type": "code",
   "execution_count": 78,
   "id": "cad7660b-0fe6-4bfc-88ce-f8b96ae6e08d",
   "metadata": {},
   "outputs": [],
   "source": [
    "precinct_df = pd.DataFrame(list(precinct_dict.items()), columns=['Precinct ID', 'Total Votes'])"
   ]
  },
  {
   "cell_type": "code",
   "execution_count": 46,
   "id": "d62429fc-0acd-4984-a344-5651fada57a0",
   "metadata": {},
   "outputs": [],
   "source": [
    "#precinct_df.to_csv(\"~/Downloads/precinct_df.csv\")"
   ]
  },
  {
   "cell_type": "code",
   "execution_count": 79,
   "id": "b100351a-f709-499f-916f-785ceace4d82",
   "metadata": {},
   "outputs": [
    {
     "data": {
      "text/html": [
       "<div>\n",
       "<style scoped>\n",
       "    .dataframe tbody tr th:only-of-type {\n",
       "        vertical-align: middle;\n",
       "    }\n",
       "\n",
       "    .dataframe tbody tr th {\n",
       "        vertical-align: top;\n",
       "    }\n",
       "\n",
       "    .dataframe thead th {\n",
       "        text-align: right;\n",
       "    }\n",
       "</style>\n",
       "<table border=\"1\" class=\"dataframe\">\n",
       "  <thead>\n",
       "    <tr style=\"text-align: right;\">\n",
       "      <th></th>\n",
       "      <th>Precinct ID</th>\n",
       "      <th>Number</th>\n",
       "    </tr>\n",
       "  </thead>\n",
       "  <tbody>\n",
       "    <tr>\n",
       "      <th>0</th>\n",
       "      <td>39-190</td>\n",
       "      <td>4</td>\n",
       "    </tr>\n",
       "    <tr>\n",
       "      <th>1</th>\n",
       "      <td>36-15</td>\n",
       "      <td>4</td>\n",
       "    </tr>\n",
       "    <tr>\n",
       "      <th>2</th>\n",
       "      <td>27-535</td>\n",
       "      <td>4</td>\n",
       "    </tr>\n",
       "    <tr>\n",
       "      <th>3</th>\n",
       "      <td>43-170</td>\n",
       "      <td>8</td>\n",
       "    </tr>\n",
       "    <tr>\n",
       "      <th>4</th>\n",
       "      <td>27-448</td>\n",
       "      <td>20</td>\n",
       "    </tr>\n",
       "    <tr>\n",
       "      <th>...</th>\n",
       "      <td>...</td>\n",
       "      <td>...</td>\n",
       "    </tr>\n",
       "    <tr>\n",
       "      <th>4218</th>\n",
       "      <td>27-157</td>\n",
       "      <td>4</td>\n",
       "    </tr>\n",
       "    <tr>\n",
       "      <th>4219</th>\n",
       "      <td>24-151</td>\n",
       "      <td>4</td>\n",
       "    </tr>\n",
       "    <tr>\n",
       "      <th>4220</th>\n",
       "      <td>27-415</td>\n",
       "      <td>8</td>\n",
       "    </tr>\n",
       "    <tr>\n",
       "      <th>4221</th>\n",
       "      <td>615-0</td>\n",
       "      <td>124</td>\n",
       "    </tr>\n",
       "    <tr>\n",
       "      <th>4222</th>\n",
       "      <td>33-131</td>\n",
       "      <td>4</td>\n",
       "    </tr>\n",
       "  </tbody>\n",
       "</table>\n",
       "<p>4223 rows × 2 columns</p>\n",
       "</div>"
      ],
      "text/plain": [
       "     Precinct ID  Number\n",
       "0         39-190       4\n",
       "1          36-15       4\n",
       "2         27-535       4\n",
       "3         43-170       8\n",
       "4         27-448      20\n",
       "...          ...     ...\n",
       "4218      27-157       4\n",
       "4219      24-151       4\n",
       "4220      27-415       8\n",
       "4221       615-0     124\n",
       "4222      33-131       4\n",
       "\n",
       "[4223 rows x 2 columns]"
      ]
     },
     "execution_count": 79,
     "metadata": {},
     "output_type": "execute_result"
    }
   ],
   "source": []
  }
 ],
 "metadata": {
  "kernelspec": {
   "display_name": "Python 3 (ipykernel)",
   "language": "python",
   "name": "python3"
  },
  "language_info": {
   "codemirror_mode": {
    "name": "ipython",
    "version": 3
   },
   "file_extension": ".py",
   "mimetype": "text/x-python",
   "name": "python",
   "nbconvert_exporter": "python",
   "pygments_lexer": "ipython3",
   "version": "3.13.2"
  }
 },
 "nbformat": 4,
 "nbformat_minor": 5
}
